{
 "cells": [
  {
   "cell_type": "code",
   "execution_count": 4,
   "metadata": {},
   "outputs": [],
   "source": [
    "from PIL import Image\n",
    "import numpy as np\n",
    "from wordcloud import WordCloud\n",
    "import matplotlib.pyplot as plt\n",
    "import json\n",
    "import os"
   ]
  },
  {
   "cell_type": "code",
   "execution_count": 5,
   "metadata": {},
   "outputs": [],
   "source": [
    "font_path = 'BlackHanSans-Regular.ttf'\n",
    "circle_mask = np.array(Image.open(\"circle.png\"))\n",
    "kaist_mask = np.array(Image.open('KAIST.JPG'))"
   ]
  },
  {
   "cell_type": "code",
   "execution_count": 8,
   "metadata": {},
   "outputs": [],
   "source": [
    "wc_circle = WordCloud(font_path=font_path, background_color=\"white\", mask=circle_mask, width=800, height=800)\n",
    "wc_kaist = WordCloud(font_path=font_path, background_color=\"white\", mask=kaist_mask, width=1000, height=500)"
   ]
  },
  {
   "cell_type": "code",
   "execution_count": null,
   "metadata": {},
   "outputs": [],
   "source": [
    "for file in os.listdir('json_file'):\n",
    "    words = {}\n",
    "    file_dir = 'json_file/' + file\n",
    "    with open(file_dir) as json_file:\n",
    "        json_data = json.load(json_file)\n",
    "        for word in json_data:\n",
    "            keyword = word['keyword']\n",
    "            score = word['score']\n",
    "            words[keyword] = score\n",
    "    circle = wc_circle.generate_from_frequencies(words)\n",
    "    kaist = wc_kaist.generate_from_frequencies(words)\n",
    "    fig = plt.figure(figsize=(10, 10))\n",
    "    plt.axis(\"off\")\n",
    "    plt.imshow(circle, interpolation=\"bilinear\")\n",
    "    fig.savefig('wordcloud/'+file+'_circle.png')\n",
    "    plt.imshow(kaist, interpolation=\"bilinear\")\n",
    "    fig.savefig('wordcloud/'+file+'_kaist.png')\n",
    "    plt.close(fig)"
   ]
  },
  {
   "cell_type": "code",
   "execution_count": 26,
   "metadata": {},
   "outputs": [],
   "source": [
    "# TEST\n",
    "\n",
    "words = {'먹다':5, \"자다\":10, '입다': 7, '약속': 3, '기대': 8, '데이트': 5}\n",
    "circle = wc_circle.generate_from_frequencies(words)\n",
    "kaist = wc_kaist.generate_from_frequencies(words)\n",
    "fig = plt.figure(figsize=(10, 10))\n",
    "plt.imshow(circle, interpolation=\"bilinear\")\n",
    "plt.axis('off')\n",
    "fig.savefig('test_circle.png')\n",
    "plt.imshow(kaist, interpolation=\"bilinear\")\n",
    "fig.savefig('test_kaist.png')\n",
    "plt.close(fig)"
   ]
  },
  {
   "cell_type": "code",
   "execution_count": null,
   "metadata": {},
   "outputs": [],
   "source": []
  }
 ],
 "metadata": {
  "kernelspec": {
   "display_name": "Python 3",
   "language": "python",
   "name": "python3"
  },
  "language_info": {
   "codemirror_mode": {
    "name": "ipython",
    "version": 3
   },
   "file_extension": ".py",
   "mimetype": "text/x-python",
   "name": "python",
   "nbconvert_exporter": "python",
   "pygments_lexer": "ipython3",
   "version": "3.8.3"
  }
 },
 "nbformat": 4,
 "nbformat_minor": 4
}
