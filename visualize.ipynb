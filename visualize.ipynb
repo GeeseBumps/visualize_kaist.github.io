{
 "cells": [
  {
   "cell_type": "code",
   "execution_count": 16,
   "metadata": {},
   "outputs": [],
   "source": [
    "import pandas as pd\n",
    "import numpy as np\n",
    "import json\n",
    "import gensim\n",
    "import pyLDAvis.gensim as gensimvis\n",
    "import pyLDAvis\n",
    "import os\n",
    "from tqdm import tqdm\n",
    "from tqdm._tqdm_notebook import tqdm_notebook\n",
    "from sklearn.feature_extraction.text import CountVectorizer, TfidfVectorizer\n",
    "from tokenizer.korean_tokenizer import tokenize_nori,tokenize_okt\n",
    "from gensim.models import LdaModel\n",
    "from os.path import join\n",
    "from os import remove\n",
    "from gensim.models import Word2Vec\n",
    "from collections import Counter\n",
    "from render import render\n",
    "from tokenizer.english_tokenizer import tokenize_nltk\n",
    "tqdm_notebook.pandas()\n"
   ]
  },
  {
   "cell_type": "code",
   "execution_count": 3,
   "metadata": {},
   "outputs": [
    {
     "output_type": "execute_result",
     "data": {
      "text/plain": [
       "                                                 url  \\\n",
       "0  https://www.donga.com/news/article/all/2017012...   \n",
       "1  https://www.donga.com/news/article/all/2017090...   \n",
       "2  https://www.donga.com/news/article/all/2017122...   \n",
       "3  https://www.donga.com/news/article/all/2017122...   \n",
       "4  https://www.donga.com/news/article/all/2015120...   \n",
       "\n",
       "                                        title  \\\n",
       "0               야권서 흔들고 지지율은 안 오르고… 날카로워진 반기문   \n",
       "1              오준호 교수, ‘美 99년 만의 개기일식’ 동영상 공개   \n",
       "2          [부고]권정현 별세·승단 승태 부친상·조성진 유준호 장인상 外   \n",
       "3  [Bio 의약]유럽 4종, 美1종, 韓4종… 바이오시밀러 제품 판매허가 획득   \n",
       "4                   [부고]김상준 별세·예경 윤경 세진 부친상 外   \n",
       "\n",
       "                                             content  \n",
       "0   [대선 정국]잇단 공격에 강공모드로 전환 MB, 반기문에 “파이팅” 반기문 전 유...  \n",
       "1   미국 전역에서 관측돼 세계인의 관심을 모았던 지난달 22일(현지 시간)의 개기일식...  \n",
       "2                            ◇권정현 전 농수산부 양정국장 별세·...  \n",
       "3   삼성바이오에피스\\r 올해 미국-유럽서 잇단 판매 승인\\r 자가면역질환 치료제뿐 아...  \n",
       "4                            ◇김상준 전 ㈜풍산 대표이사 별세·예...  "
      ],
      "text/html": "<div>\n<style scoped>\n    .dataframe tbody tr th:only-of-type {\n        vertical-align: middle;\n    }\n\n    .dataframe tbody tr th {\n        vertical-align: top;\n    }\n\n    .dataframe thead th {\n        text-align: right;\n    }\n</style>\n<table border=\"1\" class=\"dataframe\">\n  <thead>\n    <tr style=\"text-align: right;\">\n      <th></th>\n      <th>url</th>\n      <th>title</th>\n      <th>content</th>\n    </tr>\n  </thead>\n  <tbody>\n    <tr>\n      <th>0</th>\n      <td>https://www.donga.com/news/article/all/2017012...</td>\n      <td>야권서 흔들고 지지율은 안 오르고… 날카로워진 반기문</td>\n      <td>[대선 정국]잇단 공격에 강공모드로 전환 MB, 반기문에 “파이팅” 반기문 전 유...</td>\n    </tr>\n    <tr>\n      <th>1</th>\n      <td>https://www.donga.com/news/article/all/2017090...</td>\n      <td>오준호 교수, ‘美 99년 만의 개기일식’ 동영상 공개</td>\n      <td>미국 전역에서 관측돼 세계인의 관심을 모았던 지난달 22일(현지 시간)의 개기일식...</td>\n    </tr>\n    <tr>\n      <th>2</th>\n      <td>https://www.donga.com/news/article/all/2017122...</td>\n      <td>[부고]권정현 별세·승단 승태 부친상·조성진 유준호 장인상 外</td>\n      <td>◇권정현 전 농수산부 양정국장 별세·...</td>\n    </tr>\n    <tr>\n      <th>3</th>\n      <td>https://www.donga.com/news/article/all/2017122...</td>\n      <td>[Bio 의약]유럽 4종, 美1종, 韓4종… 바이오시밀러 제품 판매허가 획득</td>\n      <td>삼성바이오에피스\\r 올해 미국-유럽서 잇단 판매 승인\\r 자가면역질환 치료제뿐 아...</td>\n    </tr>\n    <tr>\n      <th>4</th>\n      <td>https://www.donga.com/news/article/all/2015120...</td>\n      <td>[부고]김상준 별세·예경 윤경 세진 부친상 外</td>\n      <td>◇김상준 전 ㈜풍산 대표이사 별세·예...</td>\n    </tr>\n  </tbody>\n</table>\n</div>"
     },
     "metadata": {},
     "execution_count": 3
    }
   ],
   "source": [
    "korean_df_folder = join('korean_crawling','articles')\n",
    "for file in os.listdir(korean_df_folder):\n",
    "    if file.endswith(\"merged.xlsx\"):\n",
    "        korean_df = pd.read_excel(join(korean_df_folder,file))\n",
    "        korean_df.rename(columns={\"urls\" : \"url\",\"titles\":\"title\",\"contents\":\"content\"},inplace=True)\n",
    "korean_df=korean_df.drop(['Unnamed: 0'],axis=1)\n",
    "korean_df.head()"
   ]
  },
  {
   "cell_type": "code",
   "execution_count": 4,
   "metadata": {},
   "outputs": [
    {
     "output_type": "execute_result",
     "data": {
      "text/plain": [
       "                                             content  \\\n",
       "0  Studies have already shown that by irradiating...   \n",
       "1  January 25, 2005  A humanoid robot developed b...   \n",
       "2  Make no mistake, we are in the middle of a pro...   \n",
       "3  A lot has been made of the dangers of drones m...   \n",
       "4  If you build a soft, conformable robot body bu...   \n",
       "\n",
       "                                               title  \\\n",
       "0              Wearable LED device could regrow hair   \n",
       "1  Korea shows its robotics prowess with a rival ...   \n",
       "2  From weapons to works of art: The year in arti...   \n",
       "3  Flying sheepdogs: Herding birds away from plan...   \n",
       "4  Thin-strip \"muscles\" may find use in soft n' s...   \n",
       "\n",
       "                                                 url  \n",
       "0         https://newatlas.com/led-hair-array/56306/  \n",
       "1  https://newatlas.com/korea-shows-its-robotics-...  \n",
       "2  https://newatlas.com/year-highlights-artificia...  \n",
       "3  https://newatlas.com/flying-sheepdogs-drones-p...  \n",
       "4  https://newatlas.com/artificial-muscles-soft-r...  "
      ],
      "text/html": "<div>\n<style scoped>\n    .dataframe tbody tr th:only-of-type {\n        vertical-align: middle;\n    }\n\n    .dataframe tbody tr th {\n        vertical-align: top;\n    }\n\n    .dataframe thead th {\n        text-align: right;\n    }\n</style>\n<table border=\"1\" class=\"dataframe\">\n  <thead>\n    <tr style=\"text-align: right;\">\n      <th></th>\n      <th>content</th>\n      <th>title</th>\n      <th>url</th>\n    </tr>\n  </thead>\n  <tbody>\n    <tr>\n      <th>0</th>\n      <td>Studies have already shown that by irradiating...</td>\n      <td>Wearable LED device could regrow hair</td>\n      <td>https://newatlas.com/led-hair-array/56306/</td>\n    </tr>\n    <tr>\n      <th>1</th>\n      <td>January 25, 2005  A humanoid robot developed b...</td>\n      <td>Korea shows its robotics prowess with a rival ...</td>\n      <td>https://newatlas.com/korea-shows-its-robotics-...</td>\n    </tr>\n    <tr>\n      <th>2</th>\n      <td>Make no mistake, we are in the middle of a pro...</td>\n      <td>From weapons to works of art: The year in arti...</td>\n      <td>https://newatlas.com/year-highlights-artificia...</td>\n    </tr>\n    <tr>\n      <th>3</th>\n      <td>A lot has been made of the dangers of drones m...</td>\n      <td>Flying sheepdogs: Herding birds away from plan...</td>\n      <td>https://newatlas.com/flying-sheepdogs-drones-p...</td>\n    </tr>\n    <tr>\n      <th>4</th>\n      <td>If you build a soft, conformable robot body bu...</td>\n      <td>Thin-strip \"muscles\" may find use in soft n' s...</td>\n      <td>https://newatlas.com/artificial-muscles-soft-r...</td>\n    </tr>\n  </tbody>\n</table>\n</div>"
     },
     "metadata": {},
     "execution_count": 4
    }
   ],
   "source": [
    "english_df = pd.DataFrame()\n",
    "for file in os.listdir(join('english_crawling','result')):\n",
    "    if file.endswith('.csv'):\n",
    "        temp_df = pd.read_csv(join('english_crawling','result',file))\n",
    "        english_df = pd.concat([english_df,temp_df])\n",
    "english_df.rename(columns={\"urls\" : \"url\",\"titles\":\"title\",\"contents\":\"content\"},inplace=True)\n",
    "english_df.head()"
   ]
  },
  {
   "cell_type": "code",
   "execution_count": 5,
   "metadata": {},
   "outputs": [
    {
     "output_type": "execute_result",
     "data": {
      "text/plain": [
       "                                             content  \\\n",
       "0  “Good ideas come to me when I am very comforta...   \n",
       "1  The water/metal interface often governs import...   \n",
       "2  In using nanostructures to design solar therma...   \n",
       "3  Although glucose-sensing neurons were identifi...   \n",
       "4  In tomographic reconstruction, the image quali...   \n",
       "\n",
       "                                               title  \\\n",
       "0                                         Won Do Heo   \n",
       "1  Structure, Dynamics, and Wettability of Water ...   \n",
       "2  Design of a Broadband Solar Thermal Absorber U...   \n",
       "3  A glucose-sensing neuron pair regulates insuli...   \n",
       "4  Deep learning-based optical field screening fo...   \n",
       "\n",
       "                                                 url  \n",
       "0  https://www.nature.com/articles/s41592-019-0626-1  \n",
       "1  https://www.nature.com/articles/s41598-019-513...  \n",
       "2  https://www.nature.com/articles/s41598-019-514...  \n",
       "3  https://www.nature.com/articles/s41586-019-1675-4  \n",
       "4  https://www.nature.com/articles/s41598-019-513...  "
      ],
      "text/html": "<div>\n<style scoped>\n    .dataframe tbody tr th:only-of-type {\n        vertical-align: middle;\n    }\n\n    .dataframe tbody tr th {\n        vertical-align: top;\n    }\n\n    .dataframe thead th {\n        text-align: right;\n    }\n</style>\n<table border=\"1\" class=\"dataframe\">\n  <thead>\n    <tr style=\"text-align: right;\">\n      <th></th>\n      <th>content</th>\n      <th>title</th>\n      <th>url</th>\n    </tr>\n  </thead>\n  <tbody>\n    <tr>\n      <th>0</th>\n      <td>“Good ideas come to me when I am very comforta...</td>\n      <td>Won Do Heo</td>\n      <td>https://www.nature.com/articles/s41592-019-0626-1</td>\n    </tr>\n    <tr>\n      <th>1</th>\n      <td>The water/metal interface often governs import...</td>\n      <td>Structure, Dynamics, and Wettability of Water ...</td>\n      <td>https://www.nature.com/articles/s41598-019-513...</td>\n    </tr>\n    <tr>\n      <th>2</th>\n      <td>In using nanostructures to design solar therma...</td>\n      <td>Design of a Broadband Solar Thermal Absorber U...</td>\n      <td>https://www.nature.com/articles/s41598-019-514...</td>\n    </tr>\n    <tr>\n      <th>3</th>\n      <td>Although glucose-sensing neurons were identifi...</td>\n      <td>A glucose-sensing neuron pair regulates insuli...</td>\n      <td>https://www.nature.com/articles/s41586-019-1675-4</td>\n    </tr>\n    <tr>\n      <th>4</th>\n      <td>In tomographic reconstruction, the image quali...</td>\n      <td>Deep learning-based optical field screening fo...</td>\n      <td>https://www.nature.com/articles/s41598-019-513...</td>\n    </tr>\n  </tbody>\n</table>\n</div>"
     },
     "metadata": {},
     "execution_count": 5
    }
   ],
   "source": [
    "journal_df = pd.DataFrame()\n",
    "for folder in os.listdir(join('journal_crawling')):\n",
    "    for file in os.listdir(join('journal_crawling',folder)):\n",
    "        if file.endswith('.csv'):\n",
    "            temp_df = pd.read_csv(join('journal_crawling',folder,file))\n",
    "            temp_df.rename(columns={\"urls\" : \"url\",\"titles\":\"title\",\"contents\":\"content\"},inplace=True)\n",
    "            journal_df = pd.concat([journal_df,temp_df])\n",
    "journal_df=journal_df.drop(['Unnamed: 0'],axis=1)\n",
    "journal_df.head()"
   ]
  },
  {
   "cell_type": "code",
   "execution_count": 6,
   "metadata": {},
   "outputs": [],
   "source": [
    "def identity_tokenizer(text):\n",
    "    \"\"\"\n",
    "    sklearn의 Tfidfvectorizer를 이용함에 있어서 우리의 nori 토크나이저가 토큰화 한 결과를 사용하기 위한 method이다.\n",
    "\n",
    "    :param text: 토큰화 하고자 하는 문장\n",
    "    :return: 토큰이 담긴 리스트가 반환된다.\n",
    "    \"\"\"\n",
    "    list1 = text.split('00')\n",
    "    return list1"
   ]
  },
  {
   "cell_type": "code",
   "execution_count": 7,
   "metadata": {},
   "outputs": [],
   "source": [
    "def TfidfWord(df):\n",
    "    #TF-IDF를 기반으로 카이스트 검색시 가장 의미가 높은 단어로 예상되는 단어 100가지를 추출함.\n",
    "\n",
    "    vectorizer = TfidfVectorizer(tokenizer=identity_tokenizer,\n",
    "                                    max_features=100,\n",
    "                                    max_df=0.5,\n",
    "                                    ngram_range=(1, 1))\n",
    "\n",
    "    # content를 기반으로 TF-IDF를 돌리는 함수\n",
    "    words_list_content = []\n",
    "    token_concat = df['content_token'].map(lambda x: \"00\".join(x))\n",
    "    tfidf_matrix = vectorizer.fit_transform(token_concat)\n",
    "    tfidf_wordslist = vectorizer.get_feature_names()\n",
    "    vocab = dict()\n",
    "    for idx, word in enumerate(tfidf_wordslist):\n",
    "        vocab[word] = tfidf_matrix.getcol(idx).sum()\n",
    "    words_list_content = sorted(vocab.items(), key=lambda x: x[1], reverse=True)\n",
    "\n",
    "\n",
    "    # title을 기반으로 TF-IDF를 돌리는 함수\n",
    "    words_list_title = []\n",
    "    token_concat = df['title_token'].map(lambda x: \"00\".join(x))\n",
    "    tfidf_matrix = vectorizer.fit_transform(token_concat)\n",
    "    tfidf_wordslist = vectorizer.get_feature_names()\n",
    "    vocab = dict()\n",
    "    for idx, word in enumerate(tfidf_wordslist):\n",
    "        vocab[word] = tfidf_matrix.getcol(idx).sum()\n",
    "    words_list_title = sorted(vocab.items(), key=lambda x: x[1], reverse=True)\n",
    "\n",
    "    return words_list_content, words_list_title"
   ]
  },
  {
   "cell_type": "code",
   "execution_count": 8,
   "metadata": {},
   "outputs": [],
   "source": [
    "def CountWord(df):\n",
    "    #단어가 나온 빈도수를 기반으로 카이스트 검색시 가장 의미가 높은 단어로 예상되는 단어 100가지를 추출함.\n",
    "\n",
    "    vectorizer = CountVectorizer(tokenizer=identity_tokenizer,\n",
    "                                    max_features=100,\n",
    "                                    max_df=0.5,\n",
    "                                    ngram_range=(1, 1))\n",
    "\n",
    "    # content를 기반으로 TF-IDF를 돌리는 함수\n",
    "    words_list_content = []\n",
    "    token_concat = df['content_token'].map(lambda x: \"00\".join(x))\n",
    "    tfidf_matrix = vectorizer.fit_transform(token_concat)\n",
    "    tfidf_wordslist = vectorizer.get_feature_names()\n",
    "    vocab = dict()\n",
    "    for idx, word in enumerate(tfidf_wordslist):\n",
    "        vocab[word] = tfidf_matrix.getcol(idx).sum()\n",
    "    words_list_content = sorted(vocab.items(), key=lambda x: x[1], reverse=True)\n",
    "\n",
    "\n",
    "    # title을 기반으로 를 돌리는 함수\n",
    "    words_list_title = []\n",
    "    token_concat = df['title_token'].map(lambda x: \"00\".join(x))\n",
    "    tfidf_matrix = vectorizer.fit_transform(token_concat)\n",
    "    tfidf_wordslist = vectorizer.get_feature_names()\n",
    "    vocab = dict()\n",
    "    for idx, word in enumerate(tfidf_wordslist):\n",
    "        vocab[word] = tfidf_matrix.getcol(idx).sum()\n",
    "    words_list_title = sorted(vocab.items(), key=lambda x: x[1], reverse=True)\n",
    "\n",
    "    return words_list_content, words_list_title"
   ]
  },
  {
   "cell_type": "code",
   "execution_count": 9,
   "metadata": {},
   "outputs": [],
   "source": [
    "\n",
    "class Documents:\n",
    "    def __init__(self, path):\n",
    "        self.path = path\n",
    "    def __iter__(self):\n",
    "        with open(self.path, encoding='utf-8') as f:\n",
    "            for doc in f:\n",
    "                yield doc.strip().split()\n",
    "\n",
    "class Corpus:\n",
    "    def __init__(self, path, dictionary):\n",
    "        self.path = path\n",
    "        self.dictionary = dictionary\n",
    "        self.length = 0\n",
    "    def __iter__(self):\n",
    "        with open(self.path, encoding='utf-8') as f:\n",
    "            for doc in f:\n",
    "                yield self.dictionary.doc2bow(doc.split())\n",
    "    def __len__(self):\n",
    "        if self.length == 0:\n",
    "            with open(self.path, encoding='utf-8') as f:\n",
    "                for i, doc in enumerate(f):\n",
    "                    continue\n",
    "            self.length = i + 1\n",
    "        return self.length\n",
    "\n",
    "\n",
    "def topic_modeling(corpus_path,html_path):\n",
    "    documents = Documents(corpus_path)\n",
    "    dictionary = gensim.corpora.Dictionary(documents)\n",
    "    min_count = 5\n",
    "    word_counter = Counter((word for words in documents for word in words))\n",
    "    removal_word_idxs = {\n",
    "        dictionary.token2id[word] for word, count in word_counter.items()\n",
    "        if count < min_count\n",
    "    }\n",
    "\n",
    "    dictionary.filter_tokens(removal_word_idxs)\n",
    "    dictionary.compactify()\n",
    "    corpus = Corpus(corpus_path, dictionary)\n",
    "    lda_model = LdaModel(corpus, id2word=dictionary, num_topics=50)\n",
    "    prepared_data = gensimvis.prepare(lda_model, corpus, dictionary)\n",
    "    pyLDAvis.save_html(prepared_data, html_path)\n"
   ]
  },
  {
   "cell_type": "code",
   "execution_count": 10,
   "metadata": {},
   "outputs": [],
   "source": [
    "def find_cooccur(tokens,target,window,num):\n",
    "    cooccur_dict = dict()\n",
    "    for token in tokens:\n",
    "        indices = [i for i, x in enumerate(token) if x.lower() == target.lower()]\n",
    "        if len(indices)!=0:\n",
    "            for indice in indices:\n",
    "                for i in np.arange(indice-window,indice+window):\n",
    "                    if i>=0 and i<=len(token)-1:\n",
    "                        if token[i] in cooccur_dict.keys() :\n",
    "                            cooccur_dict[token[i]] += 1\n",
    "                        else :\n",
    "                            cooccur_dict[token[i]] = 1 \n",
    "    try :\n",
    "        del cooccur_dict[target]\n",
    "    except KeyError:\n",
    "        try:\n",
    "            del cooccur_dict[target.upper()]\n",
    "        except KeyError:\n",
    "            print(target)\n",
    "    return sorted(cooccur_dict.items(),key=lambda item:item[1],reverse=True)[:num]\n",
    "\n",
    "        "
   ]
  },
  {
   "cell_type": "code",
   "execution_count": 11,
   "metadata": {},
   "outputs": [],
   "source": [
    "def stopwords_remove(dict):\n",
    "    stopwords  = ['kaist','교수']\n",
    "    for stopword in stopwords:\n",
    "        try:\n",
    "            del dict[stopword]\n",
    "        except KeyError:\n",
    "            continue\n",
    "    return dict "
   ]
  },
  {
   "cell_type": "code",
   "execution_count": 12,
   "metadata": {},
   "outputs": [],
   "source": [
    "def word_tuple2dict(tups):\n",
    "    target_dict =dict((x,int(y)) for x,y in tups)\n",
    "    for key in list(target_dict.keys()):\n",
    "        if len(key) ==1 :\n",
    "           del target_dict[key]\n",
    "    return target_dict"
   ]
  },
  {
   "cell_type": "code",
   "execution_count": 13,
   "metadata": {},
   "outputs": [],
   "source": [
    "def dftotext(df,path):\n",
    "    textlist = df['content_token'].tolist()\n",
    "    with open(path,'w',encoding='utf-8-sig') as f:\n",
    "        for text in textlist:\n",
    "                f.write(' '.join(text)+'\\n')"
   ]
  },
  {
   "cell_type": "code",
   "execution_count": 15,
   "metadata": {
    "tags": []
   },
   "outputs": [
    {
     "output_type": "stream",
     "name": "stdout",
     "text": [
      "Tokenize Start\n"
     ]
    },
    {
     "output_type": "display_data",
     "data": {
      "text/plain": "HBox(children=(HTML(value=''), FloatProgress(value=0.0, max=15673.0), HTML(value='')))",
      "application/vnd.jupyter.widget-view+json": {
       "version_major": 2,
       "version_minor": 0,
       "model_id": "d5c8f2bd43ff4d5688aba6f6269eec85"
      }
     },
     "metadata": {}
    },
    {
     "output_type": "stream",
     "name": "stdout",
     "text": [
      "\n"
     ]
    },
    {
     "output_type": "display_data",
     "data": {
      "text/plain": "HBox(children=(HTML(value=''), FloatProgress(value=0.0, max=15673.0), HTML(value='')))",
      "application/vnd.jupyter.widget-view+json": {
       "version_major": 2,
       "version_minor": 0,
       "model_id": "b090a201cc4b4f6cb044a9a8f0f4e013"
      }
     },
     "metadata": {}
    },
    {
     "output_type": "stream",
     "name": "stdout",
     "text": [
      "\n",
      "Tokenize End\n",
      "detokenize end\n",
      "topic model made\n",
      "word2vec end\n",
      "made visualize file\n",
      "\n",
      "made visualize file\n"
     ]
    }
   ],
   "source": [
    "def visualize_korean(df,root_path,topic_num=10,keyword_num=50,topn=10):\n",
    "    os.makedirs(root_path,exist_ok = True)\n",
    "    print('Tokenize Start')\n",
    "    #df =tokenize_nori(df)\n",
    "    df = tokenize_okt(df)\n",
    "    print('Tokenize End')\n",
    "    detoken_path = join(root_path,'detokenize_text.txt')\n",
    "    dftotext(df,detoken_path)\n",
    "    print('detokenize end')\n",
    "    topic_modeling(detoken_path, join(root_path,'topic_model.html'))\n",
    "    print('topic model made')\n",
    "    remove(detoken_path)\n",
    "\n",
    "    #keyword extract part \n",
    "    TF_content_word, TF_title_word= TfidfWord(df)\n",
    "    Count_content_word, Count_title_word= CountWord(df)\n",
    "    # TF_content_word_dict=word_tuple2dict(TF_content_word[:keyword_num])\n",
    "    # TF_content_word_dict = stopwords_remove(TF_content_word_dict)\n",
    "    # TF_title_word_dict=word_tuple2dict(TF_title_word[:keyword_num])\n",
    "    # TF_title_word_dict = stopwords_remove(TF_title_word_dict)\n",
    "    Count_content_word_dict = word_tuple2dict(Count_content_word[:keyword_num])\n",
    "    Count_content_word_dict = stopwords_remove(Count_content_word_dict)\n",
    "    Count_title_word_dict = word_tuple2dict(Count_title_word[:keyword_num])\n",
    "    Count_title_word_dict = stopwords_remove(Count_title_word_dict)\n",
    "\n",
    "\n",
    "    dict_list = [Count_content_word_dict,Count_title_word_dict]\n",
    "    titles_token=df['title_token'].tolist()\n",
    "    contents_token=df['content_token'].tolist()\n",
    "    tokens = titles_token + contents_token\n",
    "\n",
    "    #window내에서 함께 나타난 다른 토큰들의 내림차순 및 유사어로 추측되는 것을 내림차순 정렬 그리고 저장\n",
    "    model = Word2Vec(sentences=tokens,size=300,window=5,min_count=3,workers=4, sg=0)\n",
    "    print('word2vec end')\n",
    "\n",
    "    for j,method_dict in enumerate(dict_list):\n",
    "        keyword_list = []\n",
    "        for keyword in method_dict.keys():\n",
    "            subkeyword_dict = dict()\n",
    "            subkeyword_dict['keyword'] = keyword \n",
    "            subkeyword_dict['score'] = method_dict[keyword]\n",
    "\n",
    "            tups = find_cooccur(tokens,keyword,4,topn)\n",
    "            cooccur_list =[]\n",
    "            for i,tup in enumerate(tups): \n",
    "                cooccur_list.append({'index':i+1, 'subkeyword':tup[0],'cooccur_num':tup[1]})\n",
    "            subkeyword_dict['cooccur'] = cooccur_list\n",
    "            try:\n",
    "                tups = model.wv.similar_by_word(keyword,topn=topn)\n",
    "            except :\n",
    "                try:\n",
    "                    tups = model.wv.similar_by_word(keyword.upper(),topn=topn)\n",
    "                except : \n",
    "                    continue\n",
    "            similar_list =[]\n",
    "            for i,tup in enumerate(tups): \n",
    "                similar_list.append({'index':i+1, 'subkeyword':tup[0],'cooccur_num':tup[1]})\n",
    "            subkeyword_dict['similar'] = similar_list\n",
    "\n",
    "            keyword_list.append(subkeyword_dict)\n",
    "\n",
    "\n",
    "        if j==0:\n",
    "            with open(join(root_path,'content_wordcloud'+'.html'), 'w', encoding='UTF-8-sig') as file:\n",
    "                file.write(render(json.dumps(keyword_list, ensure_ascii=False)))\n",
    "        else:\n",
    "            with open(join(root_path,'title_worldcloud'+'.html'), 'w', encoding='UTF-8-sig') as file:\n",
    "                file.write(render(json.dumps(keyword_list, ensure_ascii=False)))\n",
    "        print('made visualize file')\n",
    "        \n",
    "visualize_korean(korean_df,'./result/korean_visualize')\n",
    "    "
   ]
  },
  {
   "cell_type": "code",
   "execution_count": 14,
   "metadata": {},
   "outputs": [
    {
     "output_type": "stream",
     "name": "stdout",
     "text": [
      "Tokenize Start\n"
     ]
    },
    {
     "output_type": "display_data",
     "data": {
      "text/plain": "HBox(children=(HTML(value=''), FloatProgress(value=0.0, max=681.0), HTML(value='')))",
      "application/vnd.jupyter.widget-view+json": {
       "version_major": 2,
       "version_minor": 0,
       "model_id": "efda259d717349078b5beb5c93417bc2"
      }
     },
     "metadata": {}
    },
    {
     "output_type": "stream",
     "name": "stdout",
     "text": [
      "\n"
     ]
    },
    {
     "output_type": "display_data",
     "data": {
      "text/plain": "HBox(children=(HTML(value=''), FloatProgress(value=0.0, max=681.0), HTML(value='')))",
      "application/vnd.jupyter.widget-view+json": {
       "version_major": 2,
       "version_minor": 0,
       "model_id": "3e2f2fbf5c7f488aa3acc335b6d4fa13"
      }
     },
     "metadata": {}
    },
    {
     "output_type": "stream",
     "name": "stdout",
     "text": [
      "\n",
      "tokenize End\n",
      "detokenize end\n",
      "topic model made\n",
      "word2vec end\n",
      "made visualize file\n",
      "made visualize file\n"
     ]
    }
   ],
   "source": [
    "def visualize_english(df,root_path,topic_num=10,keyword_num=50,topn=10):\n",
    "    os.makedirs(root_path,exist_ok = True)\n",
    "    print('Tokenize Start')\n",
    "    df = tokenize_nltk(df)\n",
    "    print('tokenize End')\n",
    "    detoken_path = join(root_path,'detokenize_text.txt')\n",
    "    dftotext(df,detoken_path)\n",
    "    print('detokenize end')\n",
    "    topic_modeling(detoken_path, join(root_path,'topic_model.html'))\n",
    "    print('topic model made')\n",
    "    remove(detoken_path)\n",
    "\n",
    "    #keyword extract part \n",
    "    TF_content_word, TF_title_word= TfidfWord(df)\n",
    "    Count_content_word, Count_title_word= CountWord(df)\n",
    "    # TF_content_word_dict=word_tuple2dict(TF_content_word[:keyword_num])\n",
    "    # TF_content_word_dict = stopwords_remove(TF_content_word_dict)\n",
    "    # TF_title_word_dict=word_tuple2dict(TF_title_word[:keyword_num])\n",
    "    # TF_title_word_dict = stopwords_remove(TF_title_word_dict)\n",
    "    Count_content_word_dict=word_tuple2dict(Count_content_word[:keyword_num])\n",
    "    Count_content_word_dict = stopwords_remove(Count_content_word_dict)\n",
    "    Count_title_word_dict=word_tuple2dict(Count_title_word[:keyword_num])\n",
    "    Count_title_word_dict = stopwords_remove(Count_title_word_dict)\n",
    "\n",
    "\n",
    "    dict_list = [Count_content_word_dict,Count_title_word_dict]\n",
    "    titles_token=df['title_token'].tolist()\n",
    "    contents_token=df['content_token'].tolist()\n",
    "    tokens = titles_token + contents_token\n",
    "\n",
    "    #window내에서 함께 나타난 다른 토큰들의 내림차순 및 유사어로 추측되는 것을 내림차순 정렬 그리고 저장\n",
    "    model = Word2Vec(sentences=tokens,size=300,window=5,min_count=3,workers=4, sg=0)\n",
    "    print('word2vec end')\n",
    "\n",
    "    for j,method_dict in enumerate(dict_list):\n",
    "        keyword_list = []\n",
    "        for keyword in method_dict.keys():\n",
    "            subkeyword_dict = dict()\n",
    "            subkeyword_dict['keyword'] = keyword \n",
    "            subkeyword_dict['score'] = method_dict[keyword]\n",
    "\n",
    "            tups = find_cooccur(tokens,keyword,4,topn)\n",
    "            cooccur_list =[]\n",
    "            for i,tup in enumerate(tups): \n",
    "                cooccur_list.append({'index':i+1, 'subkeyword':tup[0],'cooccur_num':tup[1]})\n",
    "            subkeyword_dict['cooccur'] = cooccur_list\n",
    "            try:\n",
    "                tups = model.wv.similar_by_word(keyword,topn=topn)\n",
    "            except :\n",
    "                try:\n",
    "                    tups = model.wv.similar_by_word(keyword.upper(),topn=topn)\n",
    "                except : \n",
    "                    continue\n",
    "            similar_list =[]\n",
    "            for i,tup in enumerate(tups): \n",
    "                similar_list.append({'index':i+1, 'subkeyword':tup[0],'cooccur_num':tup[1]})\n",
    "            subkeyword_dict['similar'] = similar_list\n",
    "\n",
    "            keyword_list.append(subkeyword_dict)\n",
    "\n",
    "\n",
    "        if j==0:\n",
    "            with open(join(root_path,'content_wordcloud'+'.html'), 'w', encoding='UTF-8-sig') as file:\n",
    "                file.write(render(json.dumps(keyword_list, ensure_ascii=False)))\n",
    "        else:\n",
    "            with open(join(root_path,'title_worldcloud'+'.html'), 'w', encoding='UTF-8-sig') as file:\n",
    "                file.write(render(json.dumps(keyword_list, ensure_ascii=False)))\n",
    "        print('made visualize file')\n",
    "        \n",
    "visualize_english(english_df,'./result/english_visualize')\n",
    "visualize_english(journal_df,'./result/journal_visualize')"
   ]
  },
  {
   "cell_type": "code",
   "execution_count": null,
   "metadata": {},
   "outputs": [],
   "source": []
  }
 ],
 "metadata": {
  "kernelspec": {
   "name": "Python 3.6.12 64-bit ('pytorch-CycleGAN-and-pix2pix': conda)",
   "display_name": "Python 3.6.12 64-bit ('pytorch-CycleGAN-and-pix2pix': conda)",
   "metadata": {
    "interpreter": {
     "hash": "4a65428369c2482fef3eeb880d3c90cbbd7b2b2d86e9d23bc2ecc7eb760c1319"
    }
   }
  },
  "language_info": {
   "codemirror_mode": {
    "name": "ipython",
    "version": 3
   },
   "file_extension": ".py",
   "mimetype": "text/x-python",
   "name": "python",
   "nbconvert_exporter": "python",
   "pygments_lexer": "ipython3",
   "version": "3.6.12-final"
  }
 },
 "nbformat": 4,
 "nbformat_minor": 4
}