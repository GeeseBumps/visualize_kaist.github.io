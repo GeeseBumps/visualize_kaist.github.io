{
 "cells": [
  {
   "cell_type": "code",
   "execution_count": 1,
   "metadata": {},
   "outputs": [
    {
     "name": "stderr",
     "output_type": "stream",
     "text": [
      "/home/ubuntu/anaconda3/envs/pytorch_p36/lib/python3.6/site-packages/ipykernel/__main__.py:9: TqdmDeprecationWarning: This function will be removed in tqdm==5.0.0\n",
      "Please use `tqdm.notebook.*` instead of `tqdm._tqdm_notebook.*`\n"
     ]
    }
   ],
   "source": [
    "import pandas as pd\n",
    "import numpy as np\n",
    "import json\n",
    "import gensim\n",
    "import pyLDAvis.gensim as gensimvis\n",
    "import pyLDAvis\n",
    "import os\n",
    "from tqdm import tqdm\n",
    "from tqdm._tqdm_notebook import tqdm_notebook\n",
    "from sklearn.feature_extraction.text import CountVectorizer, TfidfVectorizer\n",
    "from tokenizer.korean_tokenizer import tokenize_nori,tokenize_okt,tokenize_okt_noscreen\n",
    "from gensim.models import LdaModel\n",
    "from os.path import join\n",
    "from os import remove\n",
    "from gensim.models import Word2Vec\n",
    "from collections import Counter\n",
    "from render import render\n",
    "from tokenizer.english_tokenizer import tokenize_nltk\n",
    "tqdm_notebook.pandas()\n"
   ]
  },
  {
   "cell_type": "code",
   "execution_count": 13,
   "metadata": {},
   "outputs": [
    {
     "name": "stdout",
     "output_type": "stream",
     "text": [
      "2015-01-01-2020-10-23_donga.xlsx file visualize start\n",
      "Tokenize Start\n"
     ]
    },
    {
     "name": "stderr",
     "output_type": "stream",
     "text": [
      "/home/ubuntu/anaconda3/envs/pytorch_p36/lib/python3.6/site-packages/konlpy/tag/_okt.py:16: UserWarning: \"Twitter\" has changed to \"Okt\" since KoNLPy v0.4.5.\n",
      "  warn('\"Twitter\" has changed to \"Okt\" since KoNLPy v0.4.5.')\n"
     ]
    },
    {
     "data": {
      "application/vnd.jupyter.widget-view+json": {
       "model_id": "cb0b0817fa3d4c7389e18ef05613e033",
       "version_major": 2,
       "version_minor": 0
      },
      "text/plain": [
       "HBox(children=(FloatProgress(value=0.0, max=1417.0), HTML(value='')))"
      ]
     },
     "metadata": {},
     "output_type": "display_data"
    },
    {
     "name": "stdout",
     "output_type": "stream",
     "text": [
      "\n"
     ]
    },
    {
     "data": {
      "application/vnd.jupyter.widget-view+json": {
       "model_id": "a577d972278546229ab552a85461d403",
       "version_major": 2,
       "version_minor": 0
      },
      "text/plain": [
       "HBox(children=(FloatProgress(value=0.0, max=1417.0), HTML(value='')))"
      ]
     },
     "metadata": {},
     "output_type": "display_data"
    },
    {
     "name": "stdout",
     "output_type": "stream",
     "text": [
      "\n",
      "Tokenize End\n",
      "detokenize end\n"
     ]
    },
    {
     "name": "stderr",
     "output_type": "stream",
     "text": [
      "/home/ubuntu/anaconda3/envs/pytorch_p36/lib/python3.6/site-packages/pyLDAvis/_prepare.py:257: FutureWarning: Sorting because non-concatenation axis is not aligned. A future version\n",
      "of pandas will change to not sort by default.\n",
      "\n",
      "To accept the future behavior, pass 'sort=False'.\n",
      "\n",
      "To retain the current behavior and silence the warning, pass 'sort=True'.\n",
      "\n",
      "  return pd.concat([default_term_info] + list(topic_dfs))\n"
     ]
    },
    {
     "name": "stdout",
     "output_type": "stream",
     "text": [
      "topic model made\n",
      "word2vec end\n",
      "made visualize file\n",
      "made visualize file\n",
      "Tokenize Start\n"
     ]
    },
    {
     "name": "stderr",
     "output_type": "stream",
     "text": [
      "/home/ubuntu/anaconda3/envs/pytorch_p36/lib/python3.6/site-packages/konlpy/tag/_okt.py:16: UserWarning: \"Twitter\" has changed to \"Okt\" since KoNLPy v0.4.5.\n",
      "  warn('\"Twitter\" has changed to \"Okt\" since KoNLPy v0.4.5.')\n"
     ]
    },
    {
     "data": {
      "application/vnd.jupyter.widget-view+json": {
       "model_id": "c895a830ae974cd5972ad1055981a20f",
       "version_major": 2,
       "version_minor": 0
      },
      "text/plain": [
       "HBox(children=(FloatProgress(value=0.0, max=1417.0), HTML(value='')))"
      ]
     },
     "metadata": {},
     "output_type": "display_data"
    },
    {
     "name": "stdout",
     "output_type": "stream",
     "text": [
      "\n"
     ]
    },
    {
     "data": {
      "application/vnd.jupyter.widget-view+json": {
       "model_id": "d0a44fa8753d4ea58809171e2ba63099",
       "version_major": 2,
       "version_minor": 0
      },
      "text/plain": [
       "HBox(children=(FloatProgress(value=0.0, max=1417.0), HTML(value='')))"
      ]
     },
     "metadata": {},
     "output_type": "display_data"
    },
    {
     "name": "stdout",
     "output_type": "stream",
     "text": [
      "\n",
      "Tokenize End\n",
      "detokenize end\n"
     ]
    },
    {
     "name": "stderr",
     "output_type": "stream",
     "text": [
      "/home/ubuntu/anaconda3/envs/pytorch_p36/lib/python3.6/site-packages/pyLDAvis/_prepare.py:257: FutureWarning: Sorting because non-concatenation axis is not aligned. A future version\n",
      "of pandas will change to not sort by default.\n",
      "\n",
      "To accept the future behavior, pass 'sort=False'.\n",
      "\n",
      "To retain the current behavior and silence the warning, pass 'sort=True'.\n",
      "\n",
      "  return pd.concat([default_term_info] + list(topic_dfs))\n"
     ]
    },
    {
     "name": "stdout",
     "output_type": "stream",
     "text": [
      "topic model made\n",
      "word2vec end\n",
      "made visualize file\n",
      "made visualize file\n",
      "2015-01-01-2020-10-23_donga.xlsx file visualize end\n",
      "2015.01.01-2020.10.23_hani.xlsx file visualize start\n",
      "Tokenize Start\n"
     ]
    },
    {
     "name": "stderr",
     "output_type": "stream",
     "text": [
      "/home/ubuntu/anaconda3/envs/pytorch_p36/lib/python3.6/site-packages/konlpy/tag/_okt.py:16: UserWarning: \"Twitter\" has changed to \"Okt\" since KoNLPy v0.4.5.\n",
      "  warn('\"Twitter\" has changed to \"Okt\" since KoNLPy v0.4.5.')\n"
     ]
    },
    {
     "data": {
      "application/vnd.jupyter.widget-view+json": {
       "model_id": "e6f35c3accc24d2fabd37b2063b29e97",
       "version_major": 2,
       "version_minor": 0
      },
      "text/plain": [
       "HBox(children=(FloatProgress(value=0.0, max=888.0), HTML(value='')))"
      ]
     },
     "metadata": {},
     "output_type": "display_data"
    },
    {
     "name": "stdout",
     "output_type": "stream",
     "text": [
      "\n"
     ]
    },
    {
     "data": {
      "application/vnd.jupyter.widget-view+json": {
       "model_id": "f4653ada94bc46969b1cf8bee5b477cc",
       "version_major": 2,
       "version_minor": 0
      },
      "text/plain": [
       "HBox(children=(FloatProgress(value=0.0, max=888.0), HTML(value='')))"
      ]
     },
     "metadata": {},
     "output_type": "display_data"
    },
    {
     "name": "stdout",
     "output_type": "stream",
     "text": [
      "\n",
      "Tokenize End\n",
      "detokenize end\n"
     ]
    },
    {
     "name": "stderr",
     "output_type": "stream",
     "text": [
      "/home/ubuntu/anaconda3/envs/pytorch_p36/lib/python3.6/site-packages/pyLDAvis/_prepare.py:257: FutureWarning: Sorting because non-concatenation axis is not aligned. A future version\n",
      "of pandas will change to not sort by default.\n",
      "\n",
      "To accept the future behavior, pass 'sort=False'.\n",
      "\n",
      "To retain the current behavior and silence the warning, pass 'sort=True'.\n",
      "\n",
      "  return pd.concat([default_term_info] + list(topic_dfs))\n"
     ]
    },
    {
     "name": "stdout",
     "output_type": "stream",
     "text": [
      "topic model made\n",
      "word2vec end\n",
      "made visualize file\n",
      "made visualize file\n",
      "Tokenize Start\n"
     ]
    },
    {
     "name": "stderr",
     "output_type": "stream",
     "text": [
      "/home/ubuntu/anaconda3/envs/pytorch_p36/lib/python3.6/site-packages/konlpy/tag/_okt.py:16: UserWarning: \"Twitter\" has changed to \"Okt\" since KoNLPy v0.4.5.\n",
      "  warn('\"Twitter\" has changed to \"Okt\" since KoNLPy v0.4.5.')\n"
     ]
    },
    {
     "data": {
      "application/vnd.jupyter.widget-view+json": {
       "model_id": "cfe2960d661b4ab787ef36978e6d7e74",
       "version_major": 2,
       "version_minor": 0
      },
      "text/plain": [
       "HBox(children=(FloatProgress(value=0.0, max=888.0), HTML(value='')))"
      ]
     },
     "metadata": {},
     "output_type": "display_data"
    },
    {
     "name": "stdout",
     "output_type": "stream",
     "text": [
      "\n"
     ]
    },
    {
     "data": {
      "application/vnd.jupyter.widget-view+json": {
       "model_id": "0d0210e53a504ee4959cdf4887b41e18",
       "version_major": 2,
       "version_minor": 0
      },
      "text/plain": [
       "HBox(children=(FloatProgress(value=0.0, max=888.0), HTML(value='')))"
      ]
     },
     "metadata": {},
     "output_type": "display_data"
    },
    {
     "name": "stdout",
     "output_type": "stream",
     "text": [
      "\n",
      "Tokenize End\n",
      "detokenize end\n"
     ]
    },
    {
     "name": "stderr",
     "output_type": "stream",
     "text": [
      "/home/ubuntu/anaconda3/envs/pytorch_p36/lib/python3.6/site-packages/pyLDAvis/_prepare.py:257: FutureWarning: Sorting because non-concatenation axis is not aligned. A future version\n",
      "of pandas will change to not sort by default.\n",
      "\n",
      "To accept the future behavior, pass 'sort=False'.\n",
      "\n",
      "To retain the current behavior and silence the warning, pass 'sort=True'.\n",
      "\n",
      "  return pd.concat([default_term_info] + list(topic_dfs))\n"
     ]
    },
    {
     "name": "stdout",
     "output_type": "stream",
     "text": [
      "topic model made\n",
      "word2vec end\n",
      "made visualize file\n",
      "made visualize file\n",
      "2015.01.01-2020.10.23_hani.xlsx file visualize end\n",
      "2015.01.01-2020.10.23_joongang.xlsx file visualize start\n",
      "Tokenize Start\n"
     ]
    },
    {
     "name": "stderr",
     "output_type": "stream",
     "text": [
      "/home/ubuntu/anaconda3/envs/pytorch_p36/lib/python3.6/site-packages/konlpy/tag/_okt.py:16: UserWarning: \"Twitter\" has changed to \"Okt\" since KoNLPy v0.4.5.\n",
      "  warn('\"Twitter\" has changed to \"Okt\" since KoNLPy v0.4.5.')\n"
     ]
    },
    {
     "data": {
      "application/vnd.jupyter.widget-view+json": {
       "model_id": "ce68dba9357248ef89cdc419b33ba3ce",
       "version_major": 2,
       "version_minor": 0
      },
      "text/plain": [
       "HBox(children=(FloatProgress(value=0.0, max=1959.0), HTML(value='')))"
      ]
     },
     "metadata": {},
     "output_type": "display_data"
    },
    {
     "name": "stdout",
     "output_type": "stream",
     "text": [
      "\n"
     ]
    },
    {
     "data": {
      "application/vnd.jupyter.widget-view+json": {
       "model_id": "44df8928c5db44f9b094f2adda053eda",
       "version_major": 2,
       "version_minor": 0
      },
      "text/plain": [
       "HBox(children=(FloatProgress(value=0.0, max=1959.0), HTML(value='')))"
      ]
     },
     "metadata": {},
     "output_type": "display_data"
    },
    {
     "name": "stdout",
     "output_type": "stream",
     "text": [
      "\n",
      "Tokenize End\n",
      "detokenize end\n"
     ]
    },
    {
     "name": "stderr",
     "output_type": "stream",
     "text": [
      "/home/ubuntu/anaconda3/envs/pytorch_p36/lib/python3.6/site-packages/pyLDAvis/_prepare.py:257: FutureWarning: Sorting because non-concatenation axis is not aligned. A future version\n",
      "of pandas will change to not sort by default.\n",
      "\n",
      "To accept the future behavior, pass 'sort=False'.\n",
      "\n",
      "To retain the current behavior and silence the warning, pass 'sort=True'.\n",
      "\n",
      "  return pd.concat([default_term_info] + list(topic_dfs))\n"
     ]
    },
    {
     "name": "stdout",
     "output_type": "stream",
     "text": [
      "topic model made\n",
      "word2vec end\n",
      "made visualize file\n",
      "made visualize file\n",
      "Tokenize Start\n"
     ]
    },
    {
     "name": "stderr",
     "output_type": "stream",
     "text": [
      "/home/ubuntu/anaconda3/envs/pytorch_p36/lib/python3.6/site-packages/konlpy/tag/_okt.py:16: UserWarning: \"Twitter\" has changed to \"Okt\" since KoNLPy v0.4.5.\n",
      "  warn('\"Twitter\" has changed to \"Okt\" since KoNLPy v0.4.5.')\n"
     ]
    },
    {
     "data": {
      "application/vnd.jupyter.widget-view+json": {
       "model_id": "44457a1651af4d5c88fc92925825f34c",
       "version_major": 2,
       "version_minor": 0
      },
      "text/plain": [
       "HBox(children=(FloatProgress(value=0.0, max=1959.0), HTML(value='')))"
      ]
     },
     "metadata": {},
     "output_type": "display_data"
    },
    {
     "name": "stdout",
     "output_type": "stream",
     "text": [
      "\n"
     ]
    },
    {
     "data": {
      "application/vnd.jupyter.widget-view+json": {
       "model_id": "5d094e2713d349d4ab6f4ec605e5fd6e",
       "version_major": 2,
       "version_minor": 0
      },
      "text/plain": [
       "HBox(children=(FloatProgress(value=0.0, max=1959.0), HTML(value='')))"
      ]
     },
     "metadata": {},
     "output_type": "display_data"
    },
    {
     "name": "stdout",
     "output_type": "stream",
     "text": [
      "\n",
      "Tokenize End\n",
      "detokenize end\n"
     ]
    },
    {
     "name": "stderr",
     "output_type": "stream",
     "text": [
      "/home/ubuntu/anaconda3/envs/pytorch_p36/lib/python3.6/site-packages/pyLDAvis/_prepare.py:257: FutureWarning: Sorting because non-concatenation axis is not aligned. A future version\n",
      "of pandas will change to not sort by default.\n",
      "\n",
      "To accept the future behavior, pass 'sort=False'.\n",
      "\n",
      "To retain the current behavior and silence the warning, pass 'sort=True'.\n",
      "\n",
      "  return pd.concat([default_term_info] + list(topic_dfs))\n"
     ]
    },
    {
     "name": "stdout",
     "output_type": "stream",
     "text": [
      "topic model made\n",
      "word2vec end\n",
      "made visualize file\n",
      "made visualize file\n",
      "2015.01.01-2020.10.23_joongang.xlsx file visualize end\n",
      "2015.01.01-2020.10.23_kahn.xlsx file visualize start\n",
      "Tokenize Start\n"
     ]
    },
    {
     "name": "stderr",
     "output_type": "stream",
     "text": [
      "/home/ubuntu/anaconda3/envs/pytorch_p36/lib/python3.6/site-packages/konlpy/tag/_okt.py:16: UserWarning: \"Twitter\" has changed to \"Okt\" since KoNLPy v0.4.5.\n",
      "  warn('\"Twitter\" has changed to \"Okt\" since KoNLPy v0.4.5.')\n"
     ]
    },
    {
     "data": {
      "application/vnd.jupyter.widget-view+json": {
       "model_id": "23b167e735eb402f87422a752ac87788",
       "version_major": 2,
       "version_minor": 0
      },
      "text/plain": [
       "HBox(children=(FloatProgress(value=0.0, max=1194.0), HTML(value='')))"
      ]
     },
     "metadata": {},
     "output_type": "display_data"
    },
    {
     "name": "stdout",
     "output_type": "stream",
     "text": [
      "\n"
     ]
    },
    {
     "data": {
      "application/vnd.jupyter.widget-view+json": {
       "model_id": "f8ad9d1a846744bfa8ea2544b37b9d75",
       "version_major": 2,
       "version_minor": 0
      },
      "text/plain": [
       "HBox(children=(FloatProgress(value=0.0, max=1194.0), HTML(value='')))"
      ]
     },
     "metadata": {},
     "output_type": "display_data"
    },
    {
     "name": "stdout",
     "output_type": "stream",
     "text": [
      "\n",
      "Tokenize End\n",
      "detokenize end\n"
     ]
    },
    {
     "name": "stderr",
     "output_type": "stream",
     "text": [
      "/home/ubuntu/anaconda3/envs/pytorch_p36/lib/python3.6/site-packages/pyLDAvis/_prepare.py:257: FutureWarning: Sorting because non-concatenation axis is not aligned. A future version\n",
      "of pandas will change to not sort by default.\n",
      "\n",
      "To accept the future behavior, pass 'sort=False'.\n",
      "\n",
      "To retain the current behavior and silence the warning, pass 'sort=True'.\n",
      "\n",
      "  return pd.concat([default_term_info] + list(topic_dfs))\n"
     ]
    },
    {
     "name": "stdout",
     "output_type": "stream",
     "text": [
      "topic model made\n",
      "word2vec end\n",
      "made visualize file\n",
      "made visualize file\n",
      "Tokenize Start\n"
     ]
    },
    {
     "name": "stderr",
     "output_type": "stream",
     "text": [
      "/home/ubuntu/anaconda3/envs/pytorch_p36/lib/python3.6/site-packages/konlpy/tag/_okt.py:16: UserWarning: \"Twitter\" has changed to \"Okt\" since KoNLPy v0.4.5.\n",
      "  warn('\"Twitter\" has changed to \"Okt\" since KoNLPy v0.4.5.')\n"
     ]
    },
    {
     "data": {
      "application/vnd.jupyter.widget-view+json": {
       "model_id": "602d633f3e1241d08cf6d8c9dc1828ec",
       "version_major": 2,
       "version_minor": 0
      },
      "text/plain": [
       "HBox(children=(FloatProgress(value=0.0, max=1194.0), HTML(value='')))"
      ]
     },
     "metadata": {},
     "output_type": "display_data"
    },
    {
     "name": "stdout",
     "output_type": "stream",
     "text": [
      "\n"
     ]
    },
    {
     "data": {
      "application/vnd.jupyter.widget-view+json": {
       "model_id": "af0c2554f7d64db3b9fb8e2d58b41518",
       "version_major": 2,
       "version_minor": 0
      },
      "text/plain": [
       "HBox(children=(FloatProgress(value=0.0, max=1194.0), HTML(value='')))"
      ]
     },
     "metadata": {},
     "output_type": "display_data"
    },
    {
     "name": "stdout",
     "output_type": "stream",
     "text": [
      "\n",
      "Tokenize End\n",
      "detokenize end\n"
     ]
    },
    {
     "name": "stderr",
     "output_type": "stream",
     "text": [
      "/home/ubuntu/anaconda3/envs/pytorch_p36/lib/python3.6/site-packages/pyLDAvis/_prepare.py:257: FutureWarning: Sorting because non-concatenation axis is not aligned. A future version\n",
      "of pandas will change to not sort by default.\n",
      "\n",
      "To accept the future behavior, pass 'sort=False'.\n",
      "\n",
      "To retain the current behavior and silence the warning, pass 'sort=True'.\n",
      "\n",
      "  return pd.concat([default_term_info] + list(topic_dfs))\n"
     ]
    },
    {
     "name": "stdout",
     "output_type": "stream",
     "text": [
      "topic model made\n",
      "word2vec end\n",
      "made visualize file\n",
      "made visualize file\n",
      "2015.01.01-2020.10.23_kahn.xlsx file visualize end\n",
      "2015.01.01-2020.10.23_kmib.xlsx file visualize start\n",
      "Tokenize Start\n"
     ]
    },
    {
     "name": "stderr",
     "output_type": "stream",
     "text": [
      "/home/ubuntu/anaconda3/envs/pytorch_p36/lib/python3.6/site-packages/konlpy/tag/_okt.py:16: UserWarning: \"Twitter\" has changed to \"Okt\" since KoNLPy v0.4.5.\n",
      "  warn('\"Twitter\" has changed to \"Okt\" since KoNLPy v0.4.5.')\n"
     ]
    },
    {
     "data": {
      "application/vnd.jupyter.widget-view+json": {
       "model_id": "756b2bf521b24624be461edfb2a02d8d",
       "version_major": 2,
       "version_minor": 0
      },
      "text/plain": [
       "HBox(children=(FloatProgress(value=0.0, max=888.0), HTML(value='')))"
      ]
     },
     "metadata": {},
     "output_type": "display_data"
    },
    {
     "name": "stdout",
     "output_type": "stream",
     "text": [
      "\n"
     ]
    },
    {
     "data": {
      "application/vnd.jupyter.widget-view+json": {
       "model_id": "ff8caba5d168402a8a05794faa39cc77",
       "version_major": 2,
       "version_minor": 0
      },
      "text/plain": [
       "HBox(children=(FloatProgress(value=0.0, max=888.0), HTML(value='')))"
      ]
     },
     "metadata": {},
     "output_type": "display_data"
    },
    {
     "name": "stdout",
     "output_type": "stream",
     "text": [
      "\n",
      "Tokenize End\n",
      "detokenize end\n"
     ]
    },
    {
     "name": "stderr",
     "output_type": "stream",
     "text": [
      "/home/ubuntu/anaconda3/envs/pytorch_p36/lib/python3.6/site-packages/pyLDAvis/_prepare.py:257: FutureWarning: Sorting because non-concatenation axis is not aligned. A future version\n",
      "of pandas will change to not sort by default.\n",
      "\n",
      "To accept the future behavior, pass 'sort=False'.\n",
      "\n",
      "To retain the current behavior and silence the warning, pass 'sort=True'.\n",
      "\n",
      "  return pd.concat([default_term_info] + list(topic_dfs))\n"
     ]
    },
    {
     "name": "stdout",
     "output_type": "stream",
     "text": [
      "topic model made\n",
      "word2vec end\n",
      "made visualize file\n",
      "made visualize file\n",
      "Tokenize Start\n"
     ]
    },
    {
     "name": "stderr",
     "output_type": "stream",
     "text": [
      "/home/ubuntu/anaconda3/envs/pytorch_p36/lib/python3.6/site-packages/konlpy/tag/_okt.py:16: UserWarning: \"Twitter\" has changed to \"Okt\" since KoNLPy v0.4.5.\n",
      "  warn('\"Twitter\" has changed to \"Okt\" since KoNLPy v0.4.5.')\n"
     ]
    },
    {
     "data": {
      "application/vnd.jupyter.widget-view+json": {
       "model_id": "8cf7d24293074287925ab6f534c58f38",
       "version_major": 2,
       "version_minor": 0
      },
      "text/plain": [
       "HBox(children=(FloatProgress(value=0.0, max=888.0), HTML(value='')))"
      ]
     },
     "metadata": {},
     "output_type": "display_data"
    },
    {
     "name": "stdout",
     "output_type": "stream",
     "text": [
      "\n"
     ]
    },
    {
     "data": {
      "application/vnd.jupyter.widget-view+json": {
       "model_id": "8cc29b48dd8740b390e6e684a196cf7a",
       "version_major": 2,
       "version_minor": 0
      },
      "text/plain": [
       "HBox(children=(FloatProgress(value=0.0, max=888.0), HTML(value='')))"
      ]
     },
     "metadata": {},
     "output_type": "display_data"
    },
    {
     "name": "stdout",
     "output_type": "stream",
     "text": [
      "\n",
      "Tokenize End\n",
      "detokenize end\n"
     ]
    },
    {
     "name": "stderr",
     "output_type": "stream",
     "text": [
      "/home/ubuntu/anaconda3/envs/pytorch_p36/lib/python3.6/site-packages/pyLDAvis/_prepare.py:257: FutureWarning: Sorting because non-concatenation axis is not aligned. A future version\n",
      "of pandas will change to not sort by default.\n",
      "\n",
      "To accept the future behavior, pass 'sort=False'.\n",
      "\n",
      "To retain the current behavior and silence the warning, pass 'sort=True'.\n",
      "\n",
      "  return pd.concat([default_term_info] + list(topic_dfs))\n"
     ]
    },
    {
     "name": "stdout",
     "output_type": "stream",
     "text": [
      "topic model made\n",
      "word2vec end\n",
      "made visualize file\n",
      "made visualize file\n",
      "2015.01.01-2020.10.23_kmib.xlsx file visualize end\n",
      "2015.01.01-2020.10.23_merged.xlsx file visualize start\n",
      "Tokenize Start\n"
     ]
    },
    {
     "name": "stderr",
     "output_type": "stream",
     "text": [
      "/home/ubuntu/anaconda3/envs/pytorch_p36/lib/python3.6/site-packages/konlpy/tag/_okt.py:16: UserWarning: \"Twitter\" has changed to \"Okt\" since KoNLPy v0.4.5.\n",
      "  warn('\"Twitter\" has changed to \"Okt\" since KoNLPy v0.4.5.')\n"
     ]
    },
    {
     "data": {
      "application/vnd.jupyter.widget-view+json": {
       "model_id": "4ff843bcb20345489b2757ba5ae5bfd9",
       "version_major": 2,
       "version_minor": 0
      },
      "text/plain": [
       "HBox(children=(FloatProgress(value=0.0, max=15673.0), HTML(value='')))"
      ]
     },
     "metadata": {},
     "output_type": "display_data"
    },
    {
     "name": "stdout",
     "output_type": "stream",
     "text": [
      "\n"
     ]
    },
    {
     "data": {
      "application/vnd.jupyter.widget-view+json": {
       "model_id": "07f4fc6c0e684089bb5bf2eaffa20956",
       "version_major": 2,
       "version_minor": 0
      },
      "text/plain": [
       "HBox(children=(FloatProgress(value=0.0, max=15673.0), HTML(value='')))"
      ]
     },
     "metadata": {},
     "output_type": "display_data"
    },
    {
     "name": "stdout",
     "output_type": "stream",
     "text": [
      "\n",
      "Tokenize End\n",
      "detokenize end\n"
     ]
    },
    {
     "name": "stderr",
     "output_type": "stream",
     "text": [
      "/home/ubuntu/anaconda3/envs/pytorch_p36/lib/python3.6/site-packages/pyLDAvis/_prepare.py:257: FutureWarning: Sorting because non-concatenation axis is not aligned. A future version\n",
      "of pandas will change to not sort by default.\n",
      "\n",
      "To accept the future behavior, pass 'sort=False'.\n",
      "\n",
      "To retain the current behavior and silence the warning, pass 'sort=True'.\n",
      "\n",
      "  return pd.concat([default_term_info] + list(topic_dfs))\n"
     ]
    },
    {
     "name": "stdout",
     "output_type": "stream",
     "text": [
      "topic model made\n",
      "word2vec end\n",
      "made visualize file\n",
      "\n",
      "made visualize file\n",
      "Tokenize Start\n"
     ]
    },
    {
     "name": "stderr",
     "output_type": "stream",
     "text": [
      "/home/ubuntu/anaconda3/envs/pytorch_p36/lib/python3.6/site-packages/konlpy/tag/_okt.py:16: UserWarning: \"Twitter\" has changed to \"Okt\" since KoNLPy v0.4.5.\n",
      "  warn('\"Twitter\" has changed to \"Okt\" since KoNLPy v0.4.5.')\n"
     ]
    },
    {
     "data": {
      "application/vnd.jupyter.widget-view+json": {
       "model_id": "f93278272b244052922906cb1d7a3d77",
       "version_major": 2,
       "version_minor": 0
      },
      "text/plain": [
       "HBox(children=(FloatProgress(value=0.0, max=15673.0), HTML(value='')))"
      ]
     },
     "metadata": {},
     "output_type": "display_data"
    },
    {
     "name": "stdout",
     "output_type": "stream",
     "text": [
      "\n"
     ]
    },
    {
     "data": {
      "application/vnd.jupyter.widget-view+json": {
       "model_id": "f46a8e35bf1146c8a8689efb1add110e",
       "version_major": 2,
       "version_minor": 0
      },
      "text/plain": [
       "HBox(children=(FloatProgress(value=0.0, max=15673.0), HTML(value='')))"
      ]
     },
     "metadata": {},
     "output_type": "display_data"
    },
    {
     "name": "stdout",
     "output_type": "stream",
     "text": [
      "\n",
      "Tokenize End\n",
      "detokenize end\n"
     ]
    },
    {
     "ename": "KeyboardInterrupt",
     "evalue": "",
     "output_type": "error",
     "traceback": [
      "\u001b[0;31m---------------------------------------------------------------------------\u001b[0m",
      "\u001b[0;31mKeyboardInterrupt\u001b[0m                         Traceback (most recent call last)",
      "\u001b[0;32m<ipython-input-13-26412192cd13>\u001b[0m in \u001b[0;36m<module>\u001b[0;34m()\u001b[0m\n\u001b[1;32m     10\u001b[0m             \u001b[0;32mpass\u001b[0m\u001b[0;34m\u001b[0m\u001b[0m\n\u001b[1;32m     11\u001b[0m         \u001b[0mvisualize_korean\u001b[0m\u001b[0;34m(\u001b[0m\u001b[0mkorean_df\u001b[0m\u001b[0;34m,\u001b[0m\u001b[0mtokenize_okt_noscreen\u001b[0m\u001b[0;34m,\u001b[0m\u001b[0;34m'./visualize/korean_visualize/'\u001b[0m\u001b[0;34m+\u001b[0m\u001b[0mfile\u001b[0m\u001b[0;34m.\u001b[0m\u001b[0mrstrip\u001b[0m\u001b[0;34m(\u001b[0m\u001b[0;34m'.xlsx'\u001b[0m\u001b[0;34m)\u001b[0m\u001b[0;34m+\u001b[0m\u001b[0;34m'./unscreen'\u001b[0m\u001b[0;34m)\u001b[0m\u001b[0;34m\u001b[0m\u001b[0m\n\u001b[0;32m---> 12\u001b[0;31m         \u001b[0mvisualize_korean\u001b[0m\u001b[0;34m(\u001b[0m\u001b[0mkorean_df\u001b[0m\u001b[0;34m,\u001b[0m\u001b[0mtokenize_okt\u001b[0m\u001b[0;34m,\u001b[0m\u001b[0;34m'./visualize/korean_visualize/'\u001b[0m\u001b[0;34m+\u001b[0m\u001b[0mfile\u001b[0m\u001b[0;34m.\u001b[0m\u001b[0mrstrip\u001b[0m\u001b[0;34m(\u001b[0m\u001b[0;34m'.xlsx'\u001b[0m\u001b[0;34m)\u001b[0m\u001b[0;34m+\u001b[0m\u001b[0;34m'./screen'\u001b[0m\u001b[0;34m)\u001b[0m\u001b[0;34m\u001b[0m\u001b[0m\n\u001b[0m\u001b[1;32m     13\u001b[0m         \u001b[0mprint\u001b[0m\u001b[0;34m(\u001b[0m\u001b[0;34mf'{file} file visualize end'\u001b[0m\u001b[0;34m)\u001b[0m\u001b[0;34m\u001b[0m\u001b[0m\n",
      "\u001b[0;32m<ipython-input-11-7236c1141205>\u001b[0m in \u001b[0;36mvisualize_korean\u001b[0;34m(df, tokenizer, root_path, topic_num, keyword_num, topn)\u001b[0m\n\u001b[1;32m      7\u001b[0m     \u001b[0mdftotext\u001b[0m\u001b[0;34m(\u001b[0m\u001b[0mdf\u001b[0m\u001b[0;34m,\u001b[0m\u001b[0mdetoken_path\u001b[0m\u001b[0;34m)\u001b[0m\u001b[0;34m\u001b[0m\u001b[0m\n\u001b[1;32m      8\u001b[0m     \u001b[0mprint\u001b[0m\u001b[0;34m(\u001b[0m\u001b[0;34m'detokenize end'\u001b[0m\u001b[0;34m)\u001b[0m\u001b[0;34m\u001b[0m\u001b[0m\n\u001b[0;32m----> 9\u001b[0;31m     \u001b[0mtopic_modeling\u001b[0m\u001b[0;34m(\u001b[0m\u001b[0mdetoken_path\u001b[0m\u001b[0;34m,\u001b[0m \u001b[0mjoin\u001b[0m\u001b[0;34m(\u001b[0m\u001b[0mroot_path\u001b[0m\u001b[0;34m,\u001b[0m\u001b[0;34m'topic_model.html'\u001b[0m\u001b[0;34m)\u001b[0m\u001b[0;34m)\u001b[0m\u001b[0;34m\u001b[0m\u001b[0m\n\u001b[0m\u001b[1;32m     10\u001b[0m     \u001b[0mprint\u001b[0m\u001b[0;34m(\u001b[0m\u001b[0;34m'topic model made'\u001b[0m\u001b[0;34m)\u001b[0m\u001b[0;34m\u001b[0m\u001b[0m\n\u001b[1;32m     11\u001b[0m     \u001b[0mremove\u001b[0m\u001b[0;34m(\u001b[0m\u001b[0mdetoken_path\u001b[0m\u001b[0;34m)\u001b[0m\u001b[0;34m\u001b[0m\u001b[0m\n",
      "\u001b[0;32m<ipython-input-6-c5cac1d35291>\u001b[0m in \u001b[0;36mtopic_modeling\u001b[0;34m(corpus_path, html_path)\u001b[0m\n\u001b[1;32m     39\u001b[0m     \u001b[0mdictionary\u001b[0m\u001b[0;34m.\u001b[0m\u001b[0mcompactify\u001b[0m\u001b[0;34m(\u001b[0m\u001b[0;34m)\u001b[0m\u001b[0;34m\u001b[0m\u001b[0m\n\u001b[1;32m     40\u001b[0m     \u001b[0mcorpus\u001b[0m \u001b[0;34m=\u001b[0m \u001b[0mCorpus\u001b[0m\u001b[0;34m(\u001b[0m\u001b[0mcorpus_path\u001b[0m\u001b[0;34m,\u001b[0m \u001b[0mdictionary\u001b[0m\u001b[0;34m)\u001b[0m\u001b[0;34m\u001b[0m\u001b[0m\n\u001b[0;32m---> 41\u001b[0;31m     \u001b[0mlda_model\u001b[0m \u001b[0;34m=\u001b[0m \u001b[0mLdaModel\u001b[0m\u001b[0;34m(\u001b[0m\u001b[0mcorpus\u001b[0m\u001b[0;34m,\u001b[0m \u001b[0mid2word\u001b[0m\u001b[0;34m=\u001b[0m\u001b[0mdictionary\u001b[0m\u001b[0;34m,\u001b[0m \u001b[0mnum_topics\u001b[0m\u001b[0;34m=\u001b[0m\u001b[0;36m50\u001b[0m\u001b[0;34m)\u001b[0m\u001b[0;34m\u001b[0m\u001b[0m\n\u001b[0m\u001b[1;32m     42\u001b[0m     \u001b[0mprepared_data\u001b[0m \u001b[0;34m=\u001b[0m \u001b[0mgensimvis\u001b[0m\u001b[0;34m.\u001b[0m\u001b[0mprepare\u001b[0m\u001b[0;34m(\u001b[0m\u001b[0mlda_model\u001b[0m\u001b[0;34m,\u001b[0m \u001b[0mcorpus\u001b[0m\u001b[0;34m,\u001b[0m \u001b[0mdictionary\u001b[0m\u001b[0;34m)\u001b[0m\u001b[0;34m\u001b[0m\u001b[0m\n\u001b[1;32m     43\u001b[0m     \u001b[0mpyLDAvis\u001b[0m\u001b[0;34m.\u001b[0m\u001b[0msave_html\u001b[0m\u001b[0;34m(\u001b[0m\u001b[0mprepared_data\u001b[0m\u001b[0;34m,\u001b[0m \u001b[0mhtml_path\u001b[0m\u001b[0;34m)\u001b[0m\u001b[0;34m\u001b[0m\u001b[0m\n",
      "\u001b[0;32m~/anaconda3/envs/pytorch_p36/lib/python3.6/site-packages/gensim/models/ldamodel.py\u001b[0m in \u001b[0;36m__init__\u001b[0;34m(self, corpus, num_topics, id2word, distributed, chunksize, passes, update_every, alpha, eta, decay, offset, eval_every, iterations, gamma_threshold, minimum_probability, random_state, ns_conf, minimum_phi_value, per_word_topics, callbacks, dtype)\u001b[0m\n\u001b[1;32m    517\u001b[0m         \u001b[0;32mif\u001b[0m \u001b[0mcorpus\u001b[0m \u001b[0;32mis\u001b[0m \u001b[0;32mnot\u001b[0m \u001b[0;32mNone\u001b[0m\u001b[0;34m:\u001b[0m\u001b[0;34m\u001b[0m\u001b[0m\n\u001b[1;32m    518\u001b[0m             \u001b[0muse_numpy\u001b[0m \u001b[0;34m=\u001b[0m \u001b[0mself\u001b[0m\u001b[0;34m.\u001b[0m\u001b[0mdispatcher\u001b[0m \u001b[0;32mis\u001b[0m \u001b[0;32mnot\u001b[0m \u001b[0;32mNone\u001b[0m\u001b[0;34m\u001b[0m\u001b[0m\n\u001b[0;32m--> 519\u001b[0;31m             \u001b[0mself\u001b[0m\u001b[0;34m.\u001b[0m\u001b[0mupdate\u001b[0m\u001b[0;34m(\u001b[0m\u001b[0mcorpus\u001b[0m\u001b[0;34m,\u001b[0m \u001b[0mchunks_as_numpy\u001b[0m\u001b[0;34m=\u001b[0m\u001b[0muse_numpy\u001b[0m\u001b[0;34m)\u001b[0m\u001b[0;34m\u001b[0m\u001b[0m\n\u001b[0m\u001b[1;32m    520\u001b[0m \u001b[0;34m\u001b[0m\u001b[0m\n\u001b[1;32m    521\u001b[0m     \u001b[0;32mdef\u001b[0m \u001b[0minit_dir_prior\u001b[0m\u001b[0;34m(\u001b[0m\u001b[0mself\u001b[0m\u001b[0;34m,\u001b[0m \u001b[0mprior\u001b[0m\u001b[0;34m,\u001b[0m \u001b[0mname\u001b[0m\u001b[0;34m)\u001b[0m\u001b[0;34m:\u001b[0m\u001b[0;34m\u001b[0m\u001b[0m\n",
      "\u001b[0;32m~/anaconda3/envs/pytorch_p36/lib/python3.6/site-packages/gensim/models/ldamodel.py\u001b[0m in \u001b[0;36mupdate\u001b[0;34m(self, corpus, chunksize, decay, offset, passes, update_every, eval_every, iterations, gamma_threshold, chunks_as_numpy)\u001b[0m\n\u001b[1;32m    978\u001b[0m                         \u001b[0mpass_\u001b[0m\u001b[0;34m,\u001b[0m \u001b[0mchunk_no\u001b[0m \u001b[0;34m*\u001b[0m \u001b[0mchunksize\u001b[0m \u001b[0;34m+\u001b[0m \u001b[0mlen\u001b[0m\u001b[0;34m(\u001b[0m\u001b[0mchunk\u001b[0m\u001b[0;34m)\u001b[0m\u001b[0;34m,\u001b[0m \u001b[0mlencorpus\u001b[0m\u001b[0;34m\u001b[0m\u001b[0m\n\u001b[1;32m    979\u001b[0m                     )\n\u001b[0;32m--> 980\u001b[0;31m                     \u001b[0mgammat\u001b[0m \u001b[0;34m=\u001b[0m \u001b[0mself\u001b[0m\u001b[0;34m.\u001b[0m\u001b[0mdo_estep\u001b[0m\u001b[0;34m(\u001b[0m\u001b[0mchunk\u001b[0m\u001b[0;34m,\u001b[0m \u001b[0mother\u001b[0m\u001b[0;34m)\u001b[0m\u001b[0;34m\u001b[0m\u001b[0m\n\u001b[0m\u001b[1;32m    981\u001b[0m \u001b[0;34m\u001b[0m\u001b[0m\n\u001b[1;32m    982\u001b[0m                     \u001b[0;32mif\u001b[0m \u001b[0mself\u001b[0m\u001b[0;34m.\u001b[0m\u001b[0moptimize_alpha\u001b[0m\u001b[0;34m:\u001b[0m\u001b[0;34m\u001b[0m\u001b[0m\n",
      "\u001b[0;32m~/anaconda3/envs/pytorch_p36/lib/python3.6/site-packages/gensim/models/ldamodel.py\u001b[0m in \u001b[0;36mdo_estep\u001b[0;34m(self, chunk, state)\u001b[0m\n\u001b[1;32m    740\u001b[0m         \u001b[0;32mif\u001b[0m \u001b[0mstate\u001b[0m \u001b[0;32mis\u001b[0m \u001b[0;32mNone\u001b[0m\u001b[0;34m:\u001b[0m\u001b[0;34m\u001b[0m\u001b[0m\n\u001b[1;32m    741\u001b[0m             \u001b[0mstate\u001b[0m \u001b[0;34m=\u001b[0m \u001b[0mself\u001b[0m\u001b[0;34m.\u001b[0m\u001b[0mstate\u001b[0m\u001b[0;34m\u001b[0m\u001b[0m\n\u001b[0;32m--> 742\u001b[0;31m         \u001b[0mgamma\u001b[0m\u001b[0;34m,\u001b[0m \u001b[0msstats\u001b[0m \u001b[0;34m=\u001b[0m \u001b[0mself\u001b[0m\u001b[0;34m.\u001b[0m\u001b[0minference\u001b[0m\u001b[0;34m(\u001b[0m\u001b[0mchunk\u001b[0m\u001b[0;34m,\u001b[0m \u001b[0mcollect_sstats\u001b[0m\u001b[0;34m=\u001b[0m\u001b[0;32mTrue\u001b[0m\u001b[0;34m)\u001b[0m\u001b[0;34m\u001b[0m\u001b[0m\n\u001b[0m\u001b[1;32m    743\u001b[0m         \u001b[0mstate\u001b[0m\u001b[0;34m.\u001b[0m\u001b[0msstats\u001b[0m \u001b[0;34m+=\u001b[0m \u001b[0msstats\u001b[0m\u001b[0;34m\u001b[0m\u001b[0m\n\u001b[1;32m    744\u001b[0m         \u001b[0mstate\u001b[0m\u001b[0;34m.\u001b[0m\u001b[0mnumdocs\u001b[0m \u001b[0;34m+=\u001b[0m \u001b[0mgamma\u001b[0m\u001b[0;34m.\u001b[0m\u001b[0mshape\u001b[0m\u001b[0;34m[\u001b[0m\u001b[0;36m0\u001b[0m\u001b[0;34m]\u001b[0m  \u001b[0;31m# avoids calling len(chunk) on a generator\u001b[0m\u001b[0;34m\u001b[0m\u001b[0m\n",
      "\u001b[0;32m~/anaconda3/envs/pytorch_p36/lib/python3.6/site-packages/gensim/models/ldamodel.py\u001b[0m in \u001b[0;36minference\u001b[0;34m(self, chunk, collect_sstats)\u001b[0m\n\u001b[1;32m    705\u001b[0m                 \u001b[0;31m# Contribution of document d to the expected sufficient\u001b[0m\u001b[0;34m\u001b[0m\u001b[0;34m\u001b[0m\u001b[0m\n\u001b[1;32m    706\u001b[0m                 \u001b[0;31m# statistics for the M step.\u001b[0m\u001b[0;34m\u001b[0m\u001b[0;34m\u001b[0m\u001b[0m\n\u001b[0;32m--> 707\u001b[0;31m                 \u001b[0msstats\u001b[0m\u001b[0;34m[\u001b[0m\u001b[0;34m:\u001b[0m\u001b[0;34m,\u001b[0m \u001b[0mids\u001b[0m\u001b[0;34m]\u001b[0m \u001b[0;34m+=\u001b[0m \u001b[0mnp\u001b[0m\u001b[0;34m.\u001b[0m\u001b[0mouter\u001b[0m\u001b[0;34m(\u001b[0m\u001b[0mexpElogthetad\u001b[0m\u001b[0;34m.\u001b[0m\u001b[0mT\u001b[0m\u001b[0;34m,\u001b[0m \u001b[0mcts\u001b[0m \u001b[0;34m/\u001b[0m \u001b[0mphinorm\u001b[0m\u001b[0;34m)\u001b[0m\u001b[0;34m\u001b[0m\u001b[0m\n\u001b[0m\u001b[1;32m    708\u001b[0m \u001b[0;34m\u001b[0m\u001b[0m\n\u001b[1;32m    709\u001b[0m         \u001b[0;32mif\u001b[0m \u001b[0mlen\u001b[0m\u001b[0;34m(\u001b[0m\u001b[0mchunk\u001b[0m\u001b[0;34m)\u001b[0m \u001b[0;34m>\u001b[0m \u001b[0;36m1\u001b[0m\u001b[0;34m:\u001b[0m\u001b[0;34m\u001b[0m\u001b[0m\n",
      "\u001b[0;31mKeyboardInterrupt\u001b[0m: "
     ]
    }
   ],
   "source": [
    "korean_df_folder = join('korean_crawling','articles')\n",
    "korean_df_screen = pd.DataFrame()\n",
    "korean_df_unscreen = pd.DataFrame()\n",
    "\n",
    "for file in os.listdir(korean_df_folder):\n",
    "    if file.endswith(\".xlsx\"):\n",
    "        print(f'{file} file visualize start')\n",
    "        temp_df = pd.read_excel(join(korean_df_folder,file))\n",
    "        try:\n",
    "            temp_df.rename(columns={\"urls\" : \"url\",\"titles\":\"title\",\"contents\":\"content\"},inplace=True)\n",
    "            temp_df=temp_df.drop(['Unnamed: 0'],axis=1)\n",
    "        except:\n",
    "            pass\n",
    "        temp_screen=visualize_korean(temp_df,tokenize_okt_noscreen,'./visualize/korean_visualize/'+file.rstrip('.xlsx')+'/unscreen',keyword_num=60)\n",
    "        temp_unscreen= visualize_korean(temp_df,tokenize_okt,'./visualize/korean_visualize/'+file.rstrip('.xlsx')+'/screen',keyword_num=60)\n",
    "        print(f'{file} file visualize end')\n",
    "        korean_df_screen=pd.concat([korean_df_screen, temp_screen])\n",
    "        korean_df_unscreen = pd.conact([korean_df_unscreen,temp_unscreen])\n",
    "        \n",
    "visualize_korean(korean_df_screen,None,'./visualize/korean_visualize/'+'merge'+'/screen',keyword_num=60)\n",
    "visualize_korean(korean_df_unscreen,None,'./visualize/korean_visualize/'+'merge'+'/unscreen',keyword_num=60)\n",
    "\n"
   ]
  },
  {
   "cell_type": "code",
   "execution_count": null,
   "metadata": {},
   "outputs": [],
   "source": [
    "english_df = pd.DataFrame()\n",
    "for file in os.listdir(join('english_crawling','result')):\n",
    "    if file.endswith('.csv'):\n",
    "        temp_df = pd.read_csv(join('english_crawling','result',file))\n",
    "        try:\n",
    "            temp_df.rename(columns={\"urls\" : \"url\",\"titles\":\"title\",\"contents\":\"content\"},inplace=True)\n",
    "        except:\n",
    "            pass\n",
    "        temp_unscreen =visualize_english(temp_df,tokenize_nltk,'./visualize/english_visualize/'+file.rstrip('.csv'))\n",
    "        english_df = pd.concat([english_df,temp_unscreen])\n",
    "visualize_english(english_df,None,'./visualize/english_visualize/merge',keyword_num=60)"
   ]
  },
  {
   "cell_type": "code",
   "execution_count": null,
   "metadata": {},
   "outputs": [],
   "source": [
    "journal_df = pd.DataFrame()\n",
    "for folder in os.listdir(join('journal_crawling')):\n",
    "    for file in os.listdir(join('journal_crawling',folder)):\n",
    "        if file.endswith('.csv'):\n",
    "            temp_df = pd.read_csv(join('journal_crawling',folder,file))\n",
    "            try:\n",
    "                temp_df.rename(columns={\"urls\" : \"url\",\"titles\":\"title\",\"contents\":\"content\"},inplace=True)\n",
    "                temp_df=temp_df.drop(['Unnamed: 0'],axis=1)\n",
    "            except:\n",
    "                pass\n",
    "            temp_unscreen=visualize_english(temp_df,tokenize_nltk,'./visualize/journal_visualize/'+file.rstrip('.csv'))\n",
    "            journal_df = pd.concat([journal_df,temp_unscreen])\n",
    "visualize_english(journal_df,None,'./visualize/journal_visualize/merge',keyword_num=60)"
   ]
  },
  {
   "cell_type": "code",
   "execution_count": 3,
   "metadata": {},
   "outputs": [],
   "source": [
    "def identity_tokenizer(text):\n",
    "    \"\"\"\n",
    "    sklearn의 Tfidfvectorizer를 이용함에 있어서 우리의 nori 토크나이저가 토큰화 한 결과를 사용하기 위한 method이다.\n",
    "\n",
    "    :param text: 토큰화 하고자 하는 문장\n",
    "    :return: 토큰이 담긴 리스트가 반환된다.\n",
    "    \"\"\"\n",
    "    list1 = text.split('00')\n",
    "    return list1"
   ]
  },
  {
   "cell_type": "code",
   "execution_count": 4,
   "metadata": {},
   "outputs": [],
   "source": [
    "def TfidfWord(df):\n",
    "    #TF-IDF를 기반으로 카이스트 검색시 가장 의미가 높은 단어로 예상되는 단어 100가지를 추출함.\n",
    "\n",
    "    vectorizer = TfidfVectorizer(tokenizer=identity_tokenizer,\n",
    "                                    max_features=100,\n",
    "                                    max_df=0.5,\n",
    "                                    ngram_range=(1, 1))\n",
    "\n",
    "    # content를 기반으로 TF-IDF를 돌리는 함수\n",
    "    words_list_content = []\n",
    "    token_concat = df['content_token'].map(lambda x: \"00\".join(x))\n",
    "    tfidf_matrix = vectorizer.fit_transform(token_concat)\n",
    "    tfidf_wordslist = vectorizer.get_feature_names()\n",
    "    vocab = dict()\n",
    "    for idx, word in enumerate(tfidf_wordslist):\n",
    "        vocab[word] = tfidf_matrix.getcol(idx).sum()\n",
    "    words_list_content = sorted(vocab.items(), key=lambda x: x[1], reverse=True)\n",
    "\n",
    "\n",
    "    # title을 기반으로 TF-IDF를 돌리는 함수\n",
    "    words_list_title = []\n",
    "    token_concat = df['title_token'].map(lambda x: \"00\".join(x))\n",
    "    tfidf_matrix = vectorizer.fit_transform(token_concat)\n",
    "    tfidf_wordslist = vectorizer.get_feature_names()\n",
    "    vocab = dict()\n",
    "    for idx, word in enumerate(tfidf_wordslist):\n",
    "        vocab[word] = tfidf_matrix.getcol(idx).sum()\n",
    "    words_list_title = sorted(vocab.items(), key=lambda x: x[1], reverse=True)\n",
    "\n",
    "    return words_list_content, words_list_title"
   ]
  },
  {
   "cell_type": "code",
   "execution_count": 5,
   "metadata": {},
   "outputs": [],
   "source": [
    "def CountWord(df):\n",
    "    #단어가 나온 빈도수를 기반으로 카이스트 검색시 가장 의미가 높은 단어로 예상되는 단어 100가지를 추출함.\n",
    "\n",
    "    vectorizer = CountVectorizer(tokenizer=identity_tokenizer,\n",
    "                                    max_features=100,\n",
    "                                    max_df=0.5,\n",
    "                                    ngram_range=(1, 1))\n",
    "\n",
    "    # content를 기반으로 TF-IDF를 돌리는 함수\n",
    "    words_list_content = []\n",
    "    token_concat = df['content_token'].map(lambda x: \"00\".join(x))\n",
    "    tfidf_matrix = vectorizer.fit_transform(token_concat)\n",
    "    tfidf_wordslist = vectorizer.get_feature_names()\n",
    "    vocab = dict()\n",
    "    for idx, word in enumerate(tfidf_wordslist):\n",
    "        vocab[word] = tfidf_matrix.getcol(idx).sum()\n",
    "    words_list_content = sorted(vocab.items(), key=lambda x: x[1], reverse=True)\n",
    "\n",
    "\n",
    "    # title을 기반으로 를 돌리는 함수\n",
    "    words_list_title = []\n",
    "    token_concat = df['title_token'].map(lambda x: \"00\".join(x))\n",
    "    tfidf_matrix = vectorizer.fit_transform(token_concat)\n",
    "    tfidf_wordslist = vectorizer.get_feature_names()\n",
    "    vocab = dict()\n",
    "    for idx, word in enumerate(tfidf_wordslist):\n",
    "        vocab[word] = tfidf_matrix.getcol(idx).sum()\n",
    "    words_list_title = sorted(vocab.items(), key=lambda x: x[1], reverse=True)\n",
    "\n",
    "    return words_list_content, words_list_title"
   ]
  },
  {
   "cell_type": "code",
   "execution_count": 6,
   "metadata": {},
   "outputs": [],
   "source": [
    "\n",
    "class Documents:\n",
    "    def __init__(self, path):\n",
    "        self.path = path\n",
    "    def __iter__(self):\n",
    "        with open(self.path, encoding='utf-8') as f:\n",
    "            for doc in f:\n",
    "                yield doc.strip().split()\n",
    "\n",
    "class Corpus:\n",
    "    def __init__(self, path, dictionary):\n",
    "        self.path = path\n",
    "        self.dictionary = dictionary\n",
    "        self.length = 0\n",
    "    def __iter__(self):\n",
    "        with open(self.path, encoding='utf-8') as f:\n",
    "            for doc in f:\n",
    "                yield self.dictionary.doc2bow(doc.split())\n",
    "    def __len__(self):\n",
    "        if self.length == 0:\n",
    "            with open(self.path, encoding='utf-8') as f:\n",
    "                for i, doc in enumerate(f):\n",
    "                    continue\n",
    "            self.length = i + 1\n",
    "        return self.length\n",
    "\n",
    "\n",
    "def topic_modeling(corpus_path,html_path):\n",
    "    documents = Documents(corpus_path)\n",
    "    dictionary = gensim.corpora.Dictionary(documents)\n",
    "    min_count = 5\n",
    "    word_counter = Counter((word for words in documents for word in words))\n",
    "    removal_word_idxs = {\n",
    "        dictionary.token2id[word] for word, count in word_counter.items()\n",
    "        if count < min_count\n",
    "    }\n",
    "\n",
    "    dictionary.filter_tokens(removal_word_idxs)\n",
    "    dictionary.compactify()\n",
    "    corpus = Corpus(corpus_path, dictionary)\n",
    "    lda_model = LdaModel(corpus, id2word=dictionary, num_topics=50)\n",
    "    prepared_data = gensimvis.prepare(lda_model, corpus, dictionary)\n",
    "    pyLDAvis.save_html(prepared_data, html_path)\n"
   ]
  },
  {
   "cell_type": "code",
   "execution_count": 7,
   "metadata": {},
   "outputs": [],
   "source": [
    "def find_cooccur(tokens,target,window,num):\n",
    "    cooccur_dict = dict()\n",
    "    for token in tokens:\n",
    "        indices = [i for i, x in enumerate(token) if x.lower() == target.lower()]\n",
    "        if len(indices)!=0:\n",
    "            for indice in indices:\n",
    "                for i in np.arange(indice-window,indice+window):\n",
    "                    if i>=0 and i<=len(token)-1:\n",
    "                        if token[i] in cooccur_dict.keys() :\n",
    "                            cooccur_dict[token[i]] += 1\n",
    "                        else :\n",
    "                            cooccur_dict[token[i]] = 1 \n",
    "    try :\n",
    "        del cooccur_dict[target]\n",
    "    except KeyError:\n",
    "        try:\n",
    "            del cooccur_dict[target.upper()]\n",
    "        except KeyError:\n",
    "            print(target)\n",
    "    return sorted(cooccur_dict.items(),key=lambda item:item[1],reverse=True)[:num]\n",
    "\n",
    "        "
   ]
  },
  {
   "cell_type": "code",
   "execution_count": 8,
   "metadata": {},
   "outputs": [],
   "source": [
    "def stopwords_remove(dict):\n",
    "    stopwords  = ['kaist','교수']\n",
    "    for stopword in stopwords:\n",
    "        try:\n",
    "            del dict[stopword]\n",
    "        except KeyError:\n",
    "            continue\n",
    "    return dict "
   ]
  },
  {
   "cell_type": "code",
   "execution_count": 9,
   "metadata": {},
   "outputs": [],
   "source": [
    "def word_tuple2dict(tups):\n",
    "    target_dict =dict((x,int(y)) for x,y in tups)\n",
    "    for key in list(target_dict.keys()):\n",
    "        if len(key) ==1 :\n",
    "           del target_dict[key]\n",
    "    return target_dict"
   ]
  },
  {
   "cell_type": "code",
   "execution_count": 10,
   "metadata": {},
   "outputs": [],
   "source": [
    "def dftotext(df,path):\n",
    "    textlist = df['content_token'].tolist()\n",
    "    with open(path,'w',encoding='utf-8-sig') as f:\n",
    "        for text in textlist:\n",
    "                f.write(' '.join(text)+'\\n')"
   ]
  },
  {
   "cell_type": "code",
   "execution_count": 14,
   "metadata": {
    "tags": []
   },
   "outputs": [],
   "source": [
    "def visualize_korean(df,tokenizer,root_path,topic_num=10,keyword_num=50,topn=10):\n",
    "    os.makedirs(root_path,exist_ok = True)\n",
    "    if tokenizer is not None :\n",
    "        print('Tokenize Start')\n",
    "        df = tokenizer(df)\n",
    "        print('Tokenize End')\n",
    "    detoken_path = join(root_path,'detokenize_text.txt')\n",
    "    dftotext(df,detoken_path)\n",
    "    print('detokenize end')\n",
    "    topic_modeling(detoken_path, join(root_path,'topic_model.html'))\n",
    "    print('topic model made')\n",
    "    remove(detoken_path)\n",
    "\n",
    "    #keyword extract part \n",
    "    TF_content_word, TF_title_word= TfidfWord(df)\n",
    "    Count_content_word, Count_title_word= CountWord(df)\n",
    "    # TF_content_word_dict=word_tuple2dict(TF_content_word[:keyword_num])\n",
    "    # TF_content_word_dict = stopwords_remove(TF_content_word_dict)\n",
    "    # TF_title_word_dict=word_tuple2dict(TF_title_word[:keyword_num])\n",
    "    # TF_title_word_dict = stopwords_remove(TF_title_word_dict)\n",
    "    Count_content_word_dict = word_tuple2dict(Count_content_word[:keyword_num])\n",
    "    Count_content_word_dict = stopwords_remove(Count_content_word_dict)\n",
    "    Count_title_word_dict = word_tuple2dict(Count_title_word[:keyword_num])\n",
    "    Count_title_word_dict = stopwords_remove(Count_title_word_dict)\n",
    "\n",
    "\n",
    "    dict_list = [Count_content_word_dict,Count_title_word_dict]\n",
    "    titles_token=df['title_token'].tolist()\n",
    "    contents_token=df['content_token'].tolist()\n",
    "    tokens = titles_token + contents_token\n",
    "\n",
    "    #window내에서 함께 나타난 다른 토큰들의 내림차순 및 유사어로 추측되는 것을 내림차순 정렬 그리고 저장\n",
    "    model = Word2Vec(sentences=tokens,size=300,window=5,min_count=3,workers=4, sg=0)\n",
    "    print('word2vec end')\n",
    "\n",
    "    for j,method_dict in enumerate(dict_list):\n",
    "        keyword_list = []\n",
    "        for keyword in method_dict.keys():\n",
    "            subkeyword_dict = dict()\n",
    "            subkeyword_dict['keyword'] = keyword \n",
    "            subkeyword_dict['score'] = method_dict[keyword]\n",
    "\n",
    "            tups = find_cooccur(tokens,keyword,4,topn)\n",
    "            cooccur_list =[]\n",
    "            for i,tup in enumerate(tups): \n",
    "                cooccur_list.append({'index':i+1, 'subkeyword':tup[0],'cooccur_num':tup[1]})\n",
    "            subkeyword_dict['cooccur'] = cooccur_list\n",
    "            try:\n",
    "                tups = model.wv.similar_by_word(keyword,topn=topn)\n",
    "            except :\n",
    "                try:\n",
    "                    tups = model.wv.similar_by_word(keyword.upper(),topn=topn)\n",
    "                except : \n",
    "                    continue\n",
    "            similar_list =[]\n",
    "            for i,tup in enumerate(tups): \n",
    "                similar_list.append({'index':i+1, 'subkeyword':tup[0],'cooccur_num':tup[1]})\n",
    "            subkeyword_dict['similar'] = similar_list\n",
    "\n",
    "            keyword_list.append(subkeyword_dict)\n",
    "\n",
    "\n",
    "        if j==0:\n",
    "            with open(join(root_path,'content_wordcloud'+'.html'), 'w', encoding='UTF-8-sig') as file:\n",
    "                file.write(render(json.dumps(keyword_list, ensure_ascii=False)))\n",
    "        else:\n",
    "            with open(join(root_path,'title_wordcloud'+'.html'), 'w', encoding='UTF-8-sig') as file:\n",
    "                file.write(render(json.dumps(keyword_list, ensure_ascii=False)))\n",
    "        print('made visualize file')\n",
    "    return df\n",
    "        \n",
    "    "
   ]
  },
  {
   "cell_type": "code",
   "execution_count": 15,
   "metadata": {},
   "outputs": [],
   "source": [
    "def visualize_english(df,tokenizer,root_path,topic_num=10,keyword_num=50,topn=10):\n",
    "    os.makedirs(root_path,exist_ok = True)\n",
    "    print('Tokenize Start')\n",
    "    if tokenizer is not None :\n",
    "        df = tokenizer(df)\n",
    "    print('tokenize End')\n",
    "    detoken_path = join(root_path,'detokenize_text.txt')\n",
    "    dftotext(df,detoken_path)\n",
    "    print('detokenize end')\n",
    "    topic_modeling(detoken_path, join(root_path,'topic_model.html'))\n",
    "    print('topic model made')\n",
    "    remove(detoken_path)\n",
    "\n",
    "    #keyword extract part \n",
    "    TF_content_word, TF_title_word= TfidfWord(df)\n",
    "    Count_content_word, Count_title_word= CountWord(df)\n",
    "    # TF_content_word_dict=word_tuple2dict(TF_content_word[:keyword_num])\n",
    "    # TF_content_word_dict = stopwords_remove(TF_content_word_dict)\n",
    "    # TF_title_word_dict=word_tuple2dict(TF_title_word[:keyword_num])\n",
    "    # TF_title_word_dict = stopwords_remove(TF_title_word_dict)\n",
    "    Count_content_word_dict=word_tuple2dict(Count_content_word[:keyword_num])\n",
    "    Count_content_word_dict = stopwords_remove(Count_content_word_dict)\n",
    "    Count_title_word_dict=word_tuple2dict(Count_title_word[:keyword_num])\n",
    "    Count_title_word_dict = stopwords_remove(Count_title_word_dict)\n",
    "\n",
    "\n",
    "    dict_list = [Count_content_word_dict,Count_title_word_dict]\n",
    "    titles_token=df['title_token'].tolist()\n",
    "    contents_token=df['content_token'].tolist()\n",
    "    tokens = titles_token + contents_token\n",
    "\n",
    "    #window내에서 함께 나타난 다른 토큰들의 내림차순 및 유사어로 추측되는 것을 내림차순 정렬 그리고 저장\n",
    "    model = Word2Vec(sentences=tokens,size=300,window=5,min_count=3,workers=4, sg=0)\n",
    "    print('word2vec end')\n",
    "\n",
    "    for j,method_dict in enumerate(dict_list):\n",
    "        keyword_list = []\n",
    "        for keyword in method_dict.keys():\n",
    "            subkeyword_dict = dict()\n",
    "            subkeyword_dict['keyword'] = keyword \n",
    "            subkeyword_dict['score'] = method_dict[keyword]\n",
    "\n",
    "            tups = find_cooccur(tokens,keyword,4,topn)\n",
    "            cooccur_list =[]\n",
    "            for i,tup in enumerate(tups): \n",
    "                cooccur_list.append({'index':i+1, 'subkeyword':tup[0],'cooccur_num':tup[1]})\n",
    "            subkeyword_dict['cooccur'] = cooccur_list\n",
    "            try:\n",
    "                tups = model.wv.similar_by_word(keyword,topn=topn)\n",
    "            except :\n",
    "                try:\n",
    "                    tups = model.wv.similar_by_word(keyword.upper(),topn=topn)\n",
    "                except : \n",
    "                    continue\n",
    "            similar_list =[]\n",
    "            for i,tup in enumerate(tups): \n",
    "                similar_list.append({'index':i+1, 'subkeyword':tup[0],'cooccur_num':tup[1]})\n",
    "            subkeyword_dict['similar'] = similar_list\n",
    "\n",
    "            keyword_list.append(subkeyword_dict)\n",
    "\n",
    "\n",
    "        if j==0:\n",
    "            with open(join(root_path,'content_wordcloud'+'.html'), 'w', encoding='UTF-8-sig') as file:\n",
    "                file.write(render(json.dumps(keyword_list, ensure_ascii=False)))\n",
    "        else:\n",
    "            with open(join(root_path,'title_worldcloud'+'.html'), 'w', encoding='UTF-8-sig') as file:\n",
    "                file.write(render(json.dumps(keyword_list, ensure_ascii=False)))\n",
    "        print('made visualize file')\n",
    "    return df\n"
   ]
  },
  {
   "cell_type": "code",
   "execution_count": null,
   "metadata": {},
   "outputs": [],
   "source": []
  },
  {
   "cell_type": "code",
   "execution_count": null,
   "metadata": {},
   "outputs": [],
   "source": []
  }
 ],
 "metadata": {
  "kernelspec": {
   "display_name": "Environment (conda_pytorch_p36)",
   "language": "python",
   "name": "conda_pytorch_p36"
  },
  "language_info": {
   "codemirror_mode": {
    "name": "ipython",
    "version": 3
   },
   "file_extension": ".py",
   "mimetype": "text/x-python",
   "name": "python",
   "nbconvert_exporter": "python",
   "pygments_lexer": "ipython3",
   "version": "3.6.5"
  }
 },
 "nbformat": 4,
 "nbformat_minor": 4
}
