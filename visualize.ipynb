{
 "cells": [
  {
   "cell_type": "code",
   "execution_count": 22,
   "metadata": {},
   "outputs": [
    {
     "output_type": "stream",
     "name": "stderr",
     "text": [
      "C:\\Users\\gyutaePark\\anaconda3\\envs\\kaist\\lib\\site-packages\\ipykernel\\ipkernel.py:287: DeprecationWarning: `should_run_async` will not call `transform_cell` automatically in the future. Please pass the result to `transformed_cell` argument and any exception that happen during thetransform in `preprocessing_exc_tuple` in IPython 7.17 and above.\n  and should_run_async(code)\n"
     ]
    }
   ],
   "source": [
    "import pandas as pd\n",
    "import numpy as np\n",
    "import json\n",
    "import gensim\n",
    "import pyLDAvis.gensim as gensimvis\n",
    "import pyLDAvis\n",
    "import os\n",
    "from tqdm import tqdm\n",
    "from tqdm._tqdm_notebook import tqdm_notebook\n",
    "from sklearn.feature_extraction.text import CountVectorizer, TfidfVectorizer\n",
    "from tokenizer.korean_tokenizer import tokenize_nori,tokenize_okt,tokenize_okt_noscreen\n",
    "from gensim.models import LdaModel\n",
    "from os.path import join\n",
    "from os import remove\n",
    "from gensim.models import Word2Vec\n",
    "from collections import Counter\n",
    "from render import render\n",
    "from tokenizer.english_tokenizer import tokenize_nltk\n",
    "tqdm_notebook.pandas()\n"
   ]
  },
  {
   "cell_type": "code",
   "execution_count": 21,
   "metadata": {},
   "outputs": [
    {
     "output_type": "stream",
     "name": "stderr",
     "text": [
      "C:\\Users\\gyutaePark\\anaconda3\\envs\\kaist\\lib\\site-packages\\ipykernel\\ipkernel.py:287: DeprecationWarning: `should_run_async` will not call `transform_cell` automatically in the future. Please pass the result to `transformed_cell` argument and any exception that happen during thetransform in `preprocessing_exc_tuple` in IPython 7.17 and above.\n",
      "  and should_run_async(code)\n",
      "                                                 url  \\\n",
      "0  https://www.donga.com/news/article/all/2017012...   \n",
      "\n",
      "                           title  \\\n",
      "0  야권서 흔들고 지지율은 안 오르고… 날카로워진 반기문   \n",
      "\n",
      "                                             content  \n",
      "0   [대선 정국]잇단 공격에 강공모드로 전환 MB, 반기문에 “파이팅” 반기문 전 유...  \n",
      "Tokenize Start\n"
     ]
    },
    {
     "output_type": "error",
     "ename": "ImportError",
     "evalue": "IProgress not found. Please update jupyter and ipywidgets. See https://ipywidgets.readthedocs.io/en/stable/user_install.html",
     "traceback": [
      "\u001b[1;31m---------------------------------------------------------------------------\u001b[0m",
      "\u001b[1;31mImportError\u001b[0m                               Traceback (most recent call last)",
      "\u001b[1;32m<ipython-input-21-0b982266a7c0>\u001b[0m in \u001b[0;36m<module>\u001b[1;34m\u001b[0m\n\u001b[0;32m      9\u001b[0m             \u001b[1;32mpass\u001b[0m\u001b[1;33m\u001b[0m\u001b[1;33m\u001b[0m\u001b[0m\n\u001b[0;32m     10\u001b[0m         \u001b[0mprint\u001b[0m\u001b[1;33m(\u001b[0m\u001b[0mkorean_df\u001b[0m\u001b[1;33m[\u001b[0m\u001b[1;33m:\u001b[0m\u001b[1;36m1\u001b[0m\u001b[1;33m]\u001b[0m\u001b[1;33m)\u001b[0m\u001b[1;33m\u001b[0m\u001b[1;33m\u001b[0m\u001b[0m\n\u001b[1;32m---> 11\u001b[1;33m         \u001b[0mvisualize_korean\u001b[0m\u001b[1;33m(\u001b[0m\u001b[0mkorean_df\u001b[0m\u001b[1;33m,\u001b[0m\u001b[1;34m'./visualize/korean_visualize/'\u001b[0m\u001b[1;33m+\u001b[0m\u001b[0mfile\u001b[0m\u001b[1;33m.\u001b[0m\u001b[0mrstrip\u001b[0m\u001b[1;33m(\u001b[0m\u001b[1;34m'.xlsx'\u001b[0m\u001b[1;33m)\u001b[0m\u001b[1;33m)\u001b[0m\u001b[1;33m\u001b[0m\u001b[1;33m\u001b[0m\u001b[0m\n\u001b[0m",
      "\u001b[1;32m<ipython-input-12-83819e910f07>\u001b[0m in \u001b[0;36mvisualize_korean\u001b[1;34m(df, root_path, topic_num, keyword_num, topn)\u001b[0m\n\u001b[0;32m      3\u001b[0m     \u001b[0mprint\u001b[0m\u001b[1;33m(\u001b[0m\u001b[1;34m'Tokenize Start'\u001b[0m\u001b[1;33m)\u001b[0m\u001b[1;33m\u001b[0m\u001b[1;33m\u001b[0m\u001b[0m\n\u001b[0;32m      4\u001b[0m     \u001b[1;31m#df =tokenize_nori(df)\u001b[0m\u001b[1;33m\u001b[0m\u001b[1;33m\u001b[0m\u001b[1;33m\u001b[0m\u001b[0m\n\u001b[1;32m----> 5\u001b[1;33m     \u001b[0mdf\u001b[0m \u001b[1;33m=\u001b[0m \u001b[0mtokenize_okt\u001b[0m\u001b[1;33m(\u001b[0m\u001b[0mdf\u001b[0m\u001b[1;33m)\u001b[0m\u001b[1;33m\u001b[0m\u001b[1;33m\u001b[0m\u001b[0m\n\u001b[0m\u001b[0;32m      6\u001b[0m     \u001b[0mprint\u001b[0m\u001b[1;33m(\u001b[0m\u001b[1;34m'Tokenize End'\u001b[0m\u001b[1;33m)\u001b[0m\u001b[1;33m\u001b[0m\u001b[1;33m\u001b[0m\u001b[0m\n\u001b[0;32m      7\u001b[0m     \u001b[0mdetoken_path\u001b[0m \u001b[1;33m=\u001b[0m \u001b[0mjoin\u001b[0m\u001b[1;33m(\u001b[0m\u001b[0mroot_path\u001b[0m\u001b[1;33m,\u001b[0m\u001b[1;34m'detokenize_text.txt'\u001b[0m\u001b[1;33m)\u001b[0m\u001b[1;33m\u001b[0m\u001b[1;33m\u001b[0m\u001b[0m\n",
      "\u001b[1;32mc:\\Users\\gyutaePark\\OneDrive\\외주\\크롤링 및 시각화_202010\\KAIST_Crawling\\tokenizer\\korean_tokenizer.py\u001b[0m in \u001b[0;36mtokenize_okt\u001b[1;34m(df)\u001b[0m\n\u001b[0;32m     91\u001b[0m \u001b[1;32mdef\u001b[0m \u001b[0mtokenize_okt\u001b[0m\u001b[1;33m(\u001b[0m\u001b[0mdf\u001b[0m\u001b[1;33m)\u001b[0m\u001b[1;33m:\u001b[0m\u001b[1;33m\u001b[0m\u001b[1;33m\u001b[0m\u001b[0m\n\u001b[0;32m     92\u001b[0m     \u001b[0mokt\u001b[0m \u001b[1;33m=\u001b[0m \u001b[0mOkt\u001b[0m\u001b[1;33m(\u001b[0m\u001b[1;33m)\u001b[0m\u001b[1;33m\u001b[0m\u001b[1;33m\u001b[0m\u001b[0m\n\u001b[1;32m---> 93\u001b[1;33m     \u001b[0mdf\u001b[0m\u001b[1;33m[\u001b[0m\u001b[1;34m'content_token'\u001b[0m\u001b[1;33m]\u001b[0m\u001b[1;33m=\u001b[0m \u001b[0mdf\u001b[0m\u001b[1;33m.\u001b[0m\u001b[0mprogress_apply\u001b[0m\u001b[1;33m(\u001b[0m\u001b[1;32mlambda\u001b[0m \u001b[0mx\u001b[0m \u001b[1;33m:\u001b[0m \u001b[1;33m[\u001b[0m \u001b[0mt\u001b[0m\u001b[1;33m[\u001b[0m\u001b[1;36m0\u001b[0m\u001b[1;33m]\u001b[0m \u001b[1;32mfor\u001b[0m \u001b[0mt\u001b[0m \u001b[1;32min\u001b[0m \u001b[0mokt\u001b[0m\u001b[1;33m.\u001b[0m\u001b[0mpos\u001b[0m\u001b[1;33m(\u001b[0m\u001b[0mx\u001b[0m\u001b[1;33m[\u001b[0m\u001b[1;34m'content'\u001b[0m\u001b[1;33m]\u001b[0m\u001b[1;33m,\u001b[0m\u001b[0mstem\u001b[0m\u001b[1;33m=\u001b[0m\u001b[1;32mTrue\u001b[0m\u001b[1;33m)\u001b[0m \u001b[1;32mif\u001b[0m \u001b[0mt\u001b[0m\u001b[1;33m[\u001b[0m\u001b[1;36m1\u001b[0m\u001b[1;33m]\u001b[0m \u001b[1;32min\u001b[0m \u001b[1;33m[\u001b[0m\u001b[1;34m'Noun'\u001b[0m\u001b[1;33m,\u001b[0m\u001b[1;34m'Verb'\u001b[0m\u001b[1;33m,\u001b[0m\u001b[1;34m'Adjective'\u001b[0m\u001b[1;33m]\u001b[0m \u001b[1;33m]\u001b[0m\u001b[1;33m,\u001b[0m\u001b[0maxis\u001b[0m\u001b[1;33m=\u001b[0m\u001b[1;36m1\u001b[0m\u001b[1;33m)\u001b[0m\u001b[1;33m\u001b[0m\u001b[1;33m\u001b[0m\u001b[0m\n\u001b[0m\u001b[0;32m     94\u001b[0m     \u001b[0mdf\u001b[0m\u001b[1;33m[\u001b[0m\u001b[1;34m'title_token'\u001b[0m\u001b[1;33m]\u001b[0m \u001b[1;33m=\u001b[0m \u001b[0mdf\u001b[0m\u001b[1;33m.\u001b[0m\u001b[0mprogress_apply\u001b[0m\u001b[1;33m(\u001b[0m\u001b[1;32mlambda\u001b[0m \u001b[0mx\u001b[0m \u001b[1;33m:\u001b[0m \u001b[1;33m[\u001b[0m \u001b[0mt\u001b[0m\u001b[1;33m[\u001b[0m\u001b[1;36m0\u001b[0m\u001b[1;33m]\u001b[0m \u001b[1;32mfor\u001b[0m \u001b[0mt\u001b[0m \u001b[1;32min\u001b[0m \u001b[0mokt\u001b[0m\u001b[1;33m.\u001b[0m\u001b[0mpos\u001b[0m\u001b[1;33m(\u001b[0m\u001b[0mx\u001b[0m\u001b[1;33m[\u001b[0m\u001b[1;34m'title'\u001b[0m\u001b[1;33m]\u001b[0m \u001b[1;33m,\u001b[0m\u001b[0mstem\u001b[0m\u001b[1;33m=\u001b[0m\u001b[1;32mTrue\u001b[0m\u001b[1;33m)\u001b[0m \u001b[1;32mif\u001b[0m \u001b[0mt\u001b[0m\u001b[1;33m[\u001b[0m\u001b[1;36m1\u001b[0m\u001b[1;33m]\u001b[0m \u001b[1;32min\u001b[0m \u001b[1;33m[\u001b[0m\u001b[1;34m'Noun'\u001b[0m\u001b[1;33m,\u001b[0m\u001b[1;34m'Verb'\u001b[0m\u001b[1;33m,\u001b[0m\u001b[1;34m'Adjective'\u001b[0m\u001b[1;33m]\u001b[0m \u001b[1;33m]\u001b[0m\u001b[1;33m,\u001b[0m\u001b[0maxis\u001b[0m\u001b[1;33m=\u001b[0m\u001b[1;36m1\u001b[0m\u001b[1;33m)\u001b[0m\u001b[1;33m\u001b[0m\u001b[1;33m\u001b[0m\u001b[0m\n\u001b[0;32m     95\u001b[0m     \u001b[1;32mreturn\u001b[0m \u001b[0mdf\u001b[0m\u001b[1;33m\u001b[0m\u001b[1;33m\u001b[0m\u001b[0m\n",
      "\u001b[1;32m~\\anaconda3\\envs\\kaist\\lib\\site-packages\\tqdm\\std.py\u001b[0m in \u001b[0;36minner\u001b[1;34m(df, func, *args, **kwargs)\u001b[0m\n\u001b[0;32m    767\u001b[0m                     \u001b[0mdeprecated_t\u001b[0m\u001b[1;33m[\u001b[0m\u001b[1;36m0\u001b[0m\u001b[1;33m]\u001b[0m \u001b[1;33m=\u001b[0m \u001b[1;32mNone\u001b[0m\u001b[1;33m\u001b[0m\u001b[1;33m\u001b[0m\u001b[0m\n\u001b[0;32m    768\u001b[0m                 \u001b[1;32melse\u001b[0m\u001b[1;33m:\u001b[0m\u001b[1;33m\u001b[0m\u001b[1;33m\u001b[0m\u001b[0m\n\u001b[1;32m--> 769\u001b[1;33m                     \u001b[0mt\u001b[0m \u001b[1;33m=\u001b[0m \u001b[0mcls\u001b[0m\u001b[1;33m(\u001b[0m\u001b[0mtotal\u001b[0m\u001b[1;33m=\u001b[0m\u001b[0mtotal\u001b[0m\u001b[1;33m,\u001b[0m \u001b[1;33m**\u001b[0m\u001b[0mtqdm_kwargs\u001b[0m\u001b[1;33m)\u001b[0m\u001b[1;33m\u001b[0m\u001b[1;33m\u001b[0m\u001b[0m\n\u001b[0m\u001b[0;32m    770\u001b[0m \u001b[1;33m\u001b[0m\u001b[0m\n\u001b[0;32m    771\u001b[0m                 \u001b[1;32mif\u001b[0m \u001b[0mlen\u001b[0m\u001b[1;33m(\u001b[0m\u001b[0margs\u001b[0m\u001b[1;33m)\u001b[0m \u001b[1;33m>\u001b[0m \u001b[1;36m0\u001b[0m\u001b[1;33m:\u001b[0m\u001b[1;33m\u001b[0m\u001b[1;33m\u001b[0m\u001b[0m\n",
      "\u001b[1;32m~\\anaconda3\\envs\\kaist\\lib\\site-packages\\tqdm\\notebook.py\u001b[0m in \u001b[0;36m__init__\u001b[1;34m(self, *args, **kwargs)\u001b[0m\n\u001b[0;32m    222\u001b[0m         \u001b[0mtotal\u001b[0m \u001b[1;33m=\u001b[0m \u001b[0mself\u001b[0m\u001b[1;33m.\u001b[0m\u001b[0mtotal\u001b[0m \u001b[1;33m*\u001b[0m \u001b[0munit_scale\u001b[0m \u001b[1;32mif\u001b[0m \u001b[0mself\u001b[0m\u001b[1;33m.\u001b[0m\u001b[0mtotal\u001b[0m \u001b[1;32melse\u001b[0m \u001b[0mself\u001b[0m\u001b[1;33m.\u001b[0m\u001b[0mtotal\u001b[0m\u001b[1;33m\u001b[0m\u001b[1;33m\u001b[0m\u001b[0m\n\u001b[0;32m    223\u001b[0m         self.container = self.status_printer(\n\u001b[1;32m--> 224\u001b[1;33m             self.fp, total, self.desc, self.ncols)\n\u001b[0m\u001b[0;32m    225\u001b[0m         \u001b[0mself\u001b[0m\u001b[1;33m.\u001b[0m\u001b[0msp\u001b[0m \u001b[1;33m=\u001b[0m \u001b[0mself\u001b[0m\u001b[1;33m.\u001b[0m\u001b[0mdisplay\u001b[0m\u001b[1;33m\u001b[0m\u001b[1;33m\u001b[0m\u001b[0m\n\u001b[0;32m    226\u001b[0m         \u001b[0mself\u001b[0m\u001b[1;33m.\u001b[0m\u001b[0mcolour\u001b[0m \u001b[1;33m=\u001b[0m \u001b[0mcolour\u001b[0m\u001b[1;33m\u001b[0m\u001b[1;33m\u001b[0m\u001b[0m\n",
      "\u001b[1;32m~\\anaconda3\\envs\\kaist\\lib\\site-packages\\tqdm\\notebook.py\u001b[0m in \u001b[0;36mstatus_printer\u001b[1;34m(_, total, desc, ncols)\u001b[0m\n\u001b[0;32m     95\u001b[0m         \u001b[1;32mif\u001b[0m \u001b[0mIProgress\u001b[0m \u001b[1;32mis\u001b[0m \u001b[1;32mNone\u001b[0m\u001b[1;33m:\u001b[0m  \u001b[1;31m# #187 #451 #558 #872\u001b[0m\u001b[1;33m\u001b[0m\u001b[1;33m\u001b[0m\u001b[0m\n\u001b[0;32m     96\u001b[0m             raise ImportError(\n\u001b[1;32m---> 97\u001b[1;33m                 \u001b[1;34m\"IProgress not found. Please update jupyter and ipywidgets.\"\u001b[0m\u001b[1;33m\u001b[0m\u001b[1;33m\u001b[0m\u001b[0m\n\u001b[0m\u001b[0;32m     98\u001b[0m                 \u001b[1;34m\" See https://ipywidgets.readthedocs.io/en/stable\"\u001b[0m\u001b[1;33m\u001b[0m\u001b[1;33m\u001b[0m\u001b[0m\n\u001b[0;32m     99\u001b[0m                 \"/user_install.html\")\n",
      "\u001b[1;31mImportError\u001b[0m: IProgress not found. Please update jupyter and ipywidgets. See https://ipywidgets.readthedocs.io/en/stable/user_install.html"
     ]
    }
   ],
   "source": [
    "korean_df_folder = join('korean_crawling','articles')\n",
    "for file in os.listdir(korean_df_folder):\n",
    "    if file.endswith(\".xlsx\"):\n",
    "        korean_df = pd.read_excel(join(korean_df_folder,file))\n",
    "        try:\n",
    "            korean_df.rename(columns={\"urls\" : \"url\",\"titles\":\"title\",\"contents\":\"content\"},inplace=True)\n",
    "            korean_df=korean_df.drop(['Unnamed: 0'],axis=1)\n",
    "        except:\n",
    "            pass\n",
    "        print(korean_df[:1])\n",
    "        visualize_korean(korean_df,tokenize_okt_noscreen,'./visualize/korean_visualize/'+file.rstrip('.xlsx')+'./unscreen')\n",
    "        visualize_korean(korean_df,tokenize_okt,'./visualize/korean_visualize/'+file.rstrip('.xlsx')+'./screen')\n"
   ]
  },
  {
   "cell_type": "code",
   "execution_count": 4,
   "metadata": {},
   "outputs": [
    {
     "output_type": "execute_result",
     "data": {
      "text/plain": [
       "                                             content  \\\n",
       "0  Studies have already shown that by irradiating...   \n",
       "1  January 25, 2005  A humanoid robot developed b...   \n",
       "2  Make no mistake, we are in the middle of a pro...   \n",
       "3  A lot has been made of the dangers of drones m...   \n",
       "4  If you build a soft, conformable robot body bu...   \n",
       "\n",
       "                                               title  \\\n",
       "0              Wearable LED device could regrow hair   \n",
       "1  Korea shows its robotics prowess with a rival ...   \n",
       "2  From weapons to works of art: The year in arti...   \n",
       "3  Flying sheepdogs: Herding birds away from plan...   \n",
       "4  Thin-strip \"muscles\" may find use in soft n' s...   \n",
       "\n",
       "                                                 url  \n",
       "0         https://newatlas.com/led-hair-array/56306/  \n",
       "1  https://newatlas.com/korea-shows-its-robotics-...  \n",
       "2  https://newatlas.com/year-highlights-artificia...  \n",
       "3  https://newatlas.com/flying-sheepdogs-drones-p...  \n",
       "4  https://newatlas.com/artificial-muscles-soft-r...  "
      ],
      "text/html": "<div>\n<style scoped>\n    .dataframe tbody tr th:only-of-type {\n        vertical-align: middle;\n    }\n\n    .dataframe tbody tr th {\n        vertical-align: top;\n    }\n\n    .dataframe thead th {\n        text-align: right;\n    }\n</style>\n<table border=\"1\" class=\"dataframe\">\n  <thead>\n    <tr style=\"text-align: right;\">\n      <th></th>\n      <th>content</th>\n      <th>title</th>\n      <th>url</th>\n    </tr>\n  </thead>\n  <tbody>\n    <tr>\n      <th>0</th>\n      <td>Studies have already shown that by irradiating...</td>\n      <td>Wearable LED device could regrow hair</td>\n      <td>https://newatlas.com/led-hair-array/56306/</td>\n    </tr>\n    <tr>\n      <th>1</th>\n      <td>January 25, 2005  A humanoid robot developed b...</td>\n      <td>Korea shows its robotics prowess with a rival ...</td>\n      <td>https://newatlas.com/korea-shows-its-robotics-...</td>\n    </tr>\n    <tr>\n      <th>2</th>\n      <td>Make no mistake, we are in the middle of a pro...</td>\n      <td>From weapons to works of art: The year in arti...</td>\n      <td>https://newatlas.com/year-highlights-artificia...</td>\n    </tr>\n    <tr>\n      <th>3</th>\n      <td>A lot has been made of the dangers of drones m...</td>\n      <td>Flying sheepdogs: Herding birds away from plan...</td>\n      <td>https://newatlas.com/flying-sheepdogs-drones-p...</td>\n    </tr>\n    <tr>\n      <th>4</th>\n      <td>If you build a soft, conformable robot body bu...</td>\n      <td>Thin-strip \"muscles\" may find use in soft n' s...</td>\n      <td>https://newatlas.com/artificial-muscles-soft-r...</td>\n    </tr>\n  </tbody>\n</table>\n</div>"
     },
     "metadata": {},
     "execution_count": 4
    }
   ],
   "source": [
    "english_df = pd.DataFrame()\n",
    "for file in os.listdir(join('english_crawling','result')):\n",
    "    if file.endswith('.csv'):\n",
    "        temp_df = pd.read_csv(join('english_crawling','result',file))\n",
    "        try:\n",
    "            temp_df.rename(columns={\"urls\" : \"url\",\"titles\":\"title\",\"contents\":\"content\"},inplace=True)\n",
    "        except:\n",
    "            pass\n",
    "        visualize_english(temp_df,'./visualize/english_visualize/'+file.rstrip('.csv'))\n",
    "        english_df = pd.concat([english_df,temp_df])\n",
    "visualize_english(english_df,'./visualize/english_visualize/merge')"
   ]
  },
  {
   "cell_type": "code",
   "execution_count": 5,
   "metadata": {},
   "outputs": [
    {
     "output_type": "execute_result",
     "data": {
      "text/plain": [
       "                                             content  \\\n",
       "0  “Good ideas come to me when I am very comforta...   \n",
       "1  The water/metal interface often governs import...   \n",
       "2  In using nanostructures to design solar therma...   \n",
       "3  Although glucose-sensing neurons were identifi...   \n",
       "4  In tomographic reconstruction, the image quali...   \n",
       "\n",
       "                                               title  \\\n",
       "0                                         Won Do Heo   \n",
       "1  Structure, Dynamics, and Wettability of Water ...   \n",
       "2  Design of a Broadband Solar Thermal Absorber U...   \n",
       "3  A glucose-sensing neuron pair regulates insuli...   \n",
       "4  Deep learning-based optical field screening fo...   \n",
       "\n",
       "                                                 url  \n",
       "0  https://www.nature.com/articles/s41592-019-0626-1  \n",
       "1  https://www.nature.com/articles/s41598-019-513...  \n",
       "2  https://www.nature.com/articles/s41598-019-514...  \n",
       "3  https://www.nature.com/articles/s41586-019-1675-4  \n",
       "4  https://www.nature.com/articles/s41598-019-513...  "
      ],
      "text/html": "<div>\n<style scoped>\n    .dataframe tbody tr th:only-of-type {\n        vertical-align: middle;\n    }\n\n    .dataframe tbody tr th {\n        vertical-align: top;\n    }\n\n    .dataframe thead th {\n        text-align: right;\n    }\n</style>\n<table border=\"1\" class=\"dataframe\">\n  <thead>\n    <tr style=\"text-align: right;\">\n      <th></th>\n      <th>content</th>\n      <th>title</th>\n      <th>url</th>\n    </tr>\n  </thead>\n  <tbody>\n    <tr>\n      <th>0</th>\n      <td>“Good ideas come to me when I am very comforta...</td>\n      <td>Won Do Heo</td>\n      <td>https://www.nature.com/articles/s41592-019-0626-1</td>\n    </tr>\n    <tr>\n      <th>1</th>\n      <td>The water/metal interface often governs import...</td>\n      <td>Structure, Dynamics, and Wettability of Water ...</td>\n      <td>https://www.nature.com/articles/s41598-019-513...</td>\n    </tr>\n    <tr>\n      <th>2</th>\n      <td>In using nanostructures to design solar therma...</td>\n      <td>Design of a Broadband Solar Thermal Absorber U...</td>\n      <td>https://www.nature.com/articles/s41598-019-514...</td>\n    </tr>\n    <tr>\n      <th>3</th>\n      <td>Although glucose-sensing neurons were identifi...</td>\n      <td>A glucose-sensing neuron pair regulates insuli...</td>\n      <td>https://www.nature.com/articles/s41586-019-1675-4</td>\n    </tr>\n    <tr>\n      <th>4</th>\n      <td>In tomographic reconstruction, the image quali...</td>\n      <td>Deep learning-based optical field screening fo...</td>\n      <td>https://www.nature.com/articles/s41598-019-513...</td>\n    </tr>\n  </tbody>\n</table>\n</div>"
     },
     "metadata": {},
     "execution_count": 5
    }
   ],
   "source": [
    "journal_df = pd.DataFrame()\n",
    "for folder in os.listdir(join('journal_crawling')):\n",
    "    for file in os.listdir(join('journal_crawling',folder)):\n",
    "        if file.endswith('.csv'):\n",
    "            temp_df = pd.read_csv(join('journal_crawling',folder,file))\n",
    "            try:\n",
    "                temp_df.rename(columns={\"urls\" : \"url\",\"titles\":\"title\",\"contents\":\"content\"},inplace=True)\n",
    "                temp_df=temp_df.drop(['Unnamed: 0'],axis=1)\n",
    "            except:\n",
    "                pass\n",
    "            visualize_english(temp_df,'./visualize/journal_visualize/'+file.rstrip('.csv'))\n",
    "            journal_df = pd.concat([journal_df,temp_df])\n",
    "visualize_english(english_df,'./visualize/journal_visualize/merge')"
   ]
  },
  {
   "cell_type": "code",
   "execution_count": 4,
   "metadata": {},
   "outputs": [
    {
     "output_type": "stream",
     "name": "stderr",
     "text": [
      "C:\\Users\\gyutaePark\\anaconda3\\envs\\kaist\\lib\\site-packages\\ipykernel\\ipkernel.py:287: DeprecationWarning: `should_run_async` will not call `transform_cell` automatically in the future. Please pass the result to `transformed_cell` argument and any exception that happen during thetransform in `preprocessing_exc_tuple` in IPython 7.17 and above.\n  and should_run_async(code)\n"
     ]
    }
   ],
   "source": [
    "def identity_tokenizer(text):\n",
    "    \"\"\"\n",
    "    sklearn의 Tfidfvectorizer를 이용함에 있어서 우리의 nori 토크나이저가 토큰화 한 결과를 사용하기 위한 method이다.\n",
    "\n",
    "    :param text: 토큰화 하고자 하는 문장\n",
    "    :return: 토큰이 담긴 리스트가 반환된다.\n",
    "    \"\"\"\n",
    "    list1 = text.split('00')\n",
    "    return list1"
   ]
  },
  {
   "cell_type": "code",
   "execution_count": 5,
   "metadata": {},
   "outputs": [
    {
     "output_type": "stream",
     "name": "stderr",
     "text": [
      "C:\\Users\\gyutaePark\\anaconda3\\envs\\kaist\\lib\\site-packages\\ipykernel\\ipkernel.py:287: DeprecationWarning: `should_run_async` will not call `transform_cell` automatically in the future. Please pass the result to `transformed_cell` argument and any exception that happen during thetransform in `preprocessing_exc_tuple` in IPython 7.17 and above.\n  and should_run_async(code)\n"
     ]
    }
   ],
   "source": [
    "def TfidfWord(df):\n",
    "    #TF-IDF를 기반으로 카이스트 검색시 가장 의미가 높은 단어로 예상되는 단어 100가지를 추출함.\n",
    "\n",
    "    vectorizer = TfidfVectorizer(tokenizer=identity_tokenizer,\n",
    "                                    max_features=100,\n",
    "                                    max_df=0.5,\n",
    "                                    ngram_range=(1, 1))\n",
    "\n",
    "    # content를 기반으로 TF-IDF를 돌리는 함수\n",
    "    words_list_content = []\n",
    "    token_concat = df['content_token'].map(lambda x: \"00\".join(x))\n",
    "    tfidf_matrix = vectorizer.fit_transform(token_concat)\n",
    "    tfidf_wordslist = vectorizer.get_feature_names()\n",
    "    vocab = dict()\n",
    "    for idx, word in enumerate(tfidf_wordslist):\n",
    "        vocab[word] = tfidf_matrix.getcol(idx).sum()\n",
    "    words_list_content = sorted(vocab.items(), key=lambda x: x[1], reverse=True)\n",
    "\n",
    "\n",
    "    # title을 기반으로 TF-IDF를 돌리는 함수\n",
    "    words_list_title = []\n",
    "    token_concat = df['title_token'].map(lambda x: \"00\".join(x))\n",
    "    tfidf_matrix = vectorizer.fit_transform(token_concat)\n",
    "    tfidf_wordslist = vectorizer.get_feature_names()\n",
    "    vocab = dict()\n",
    "    for idx, word in enumerate(tfidf_wordslist):\n",
    "        vocab[word] = tfidf_matrix.getcol(idx).sum()\n",
    "    words_list_title = sorted(vocab.items(), key=lambda x: x[1], reverse=True)\n",
    "\n",
    "    return words_list_content, words_list_title"
   ]
  },
  {
   "cell_type": "code",
   "execution_count": 6,
   "metadata": {},
   "outputs": [
    {
     "output_type": "stream",
     "name": "stderr",
     "text": [
      "C:\\Users\\gyutaePark\\anaconda3\\envs\\kaist\\lib\\site-packages\\ipykernel\\ipkernel.py:287: DeprecationWarning: `should_run_async` will not call `transform_cell` automatically in the future. Please pass the result to `transformed_cell` argument and any exception that happen during thetransform in `preprocessing_exc_tuple` in IPython 7.17 and above.\n  and should_run_async(code)\n"
     ]
    }
   ],
   "source": [
    "def CountWord(df):\n",
    "    #단어가 나온 빈도수를 기반으로 카이스트 검색시 가장 의미가 높은 단어로 예상되는 단어 100가지를 추출함.\n",
    "\n",
    "    vectorizer = CountVectorizer(tokenizer=identity_tokenizer,\n",
    "                                    max_features=100,\n",
    "                                    max_df=0.5,\n",
    "                                    ngram_range=(1, 1))\n",
    "\n",
    "    # content를 기반으로 TF-IDF를 돌리는 함수\n",
    "    words_list_content = []\n",
    "    token_concat = df['content_token'].map(lambda x: \"00\".join(x))\n",
    "    tfidf_matrix = vectorizer.fit_transform(token_concat)\n",
    "    tfidf_wordslist = vectorizer.get_feature_names()\n",
    "    vocab = dict()\n",
    "    for idx, word in enumerate(tfidf_wordslist):\n",
    "        vocab[word] = tfidf_matrix.getcol(idx).sum()\n",
    "    words_list_content = sorted(vocab.items(), key=lambda x: x[1], reverse=True)\n",
    "\n",
    "\n",
    "    # title을 기반으로 를 돌리는 함수\n",
    "    words_list_title = []\n",
    "    token_concat = df['title_token'].map(lambda x: \"00\".join(x))\n",
    "    tfidf_matrix = vectorizer.fit_transform(token_concat)\n",
    "    tfidf_wordslist = vectorizer.get_feature_names()\n",
    "    vocab = dict()\n",
    "    for idx, word in enumerate(tfidf_wordslist):\n",
    "        vocab[word] = tfidf_matrix.getcol(idx).sum()\n",
    "    words_list_title = sorted(vocab.items(), key=lambda x: x[1], reverse=True)\n",
    "\n",
    "    return words_list_content, words_list_title"
   ]
  },
  {
   "cell_type": "code",
   "execution_count": 7,
   "metadata": {},
   "outputs": [
    {
     "output_type": "stream",
     "name": "stderr",
     "text": [
      "C:\\Users\\gyutaePark\\anaconda3\\envs\\kaist\\lib\\site-packages\\ipykernel\\ipkernel.py:287: DeprecationWarning: `should_run_async` will not call `transform_cell` automatically in the future. Please pass the result to `transformed_cell` argument and any exception that happen during thetransform in `preprocessing_exc_tuple` in IPython 7.17 and above.\n  and should_run_async(code)\n"
     ]
    }
   ],
   "source": [
    "\n",
    "class Documents:\n",
    "    def __init__(self, path):\n",
    "        self.path = path\n",
    "    def __iter__(self):\n",
    "        with open(self.path, encoding='utf-8') as f:\n",
    "            for doc in f:\n",
    "                yield doc.strip().split()\n",
    "\n",
    "class Corpus:\n",
    "    def __init__(self, path, dictionary):\n",
    "        self.path = path\n",
    "        self.dictionary = dictionary\n",
    "        self.length = 0\n",
    "    def __iter__(self):\n",
    "        with open(self.path, encoding='utf-8') as f:\n",
    "            for doc in f:\n",
    "                yield self.dictionary.doc2bow(doc.split())\n",
    "    def __len__(self):\n",
    "        if self.length == 0:\n",
    "            with open(self.path, encoding='utf-8') as f:\n",
    "                for i, doc in enumerate(f):\n",
    "                    continue\n",
    "            self.length = i + 1\n",
    "        return self.length\n",
    "\n",
    "\n",
    "def topic_modeling(corpus_path,html_path):\n",
    "    documents = Documents(corpus_path)\n",
    "    dictionary = gensim.corpora.Dictionary(documents)\n",
    "    min_count = 5\n",
    "    word_counter = Counter((word for words in documents for word in words))\n",
    "    removal_word_idxs = {\n",
    "        dictionary.token2id[word] for word, count in word_counter.items()\n",
    "        if count < min_count\n",
    "    }\n",
    "\n",
    "    dictionary.filter_tokens(removal_word_idxs)\n",
    "    dictionary.compactify()\n",
    "    corpus = Corpus(corpus_path, dictionary)\n",
    "    lda_model = LdaModel(corpus, id2word=dictionary, num_topics=50)\n",
    "    prepared_data = gensimvis.prepare(lda_model, corpus, dictionary)\n",
    "    pyLDAvis.save_html(prepared_data, html_path)\n"
   ]
  },
  {
   "cell_type": "code",
   "execution_count": 8,
   "metadata": {},
   "outputs": [
    {
     "output_type": "stream",
     "name": "stderr",
     "text": [
      "C:\\Users\\gyutaePark\\anaconda3\\envs\\kaist\\lib\\site-packages\\ipykernel\\ipkernel.py:287: DeprecationWarning: `should_run_async` will not call `transform_cell` automatically in the future. Please pass the result to `transformed_cell` argument and any exception that happen during thetransform in `preprocessing_exc_tuple` in IPython 7.17 and above.\n  and should_run_async(code)\n"
     ]
    }
   ],
   "source": [
    "def find_cooccur(tokens,target,window,num):\n",
    "    cooccur_dict = dict()\n",
    "    for token in tokens:\n",
    "        indices = [i for i, x in enumerate(token) if x.lower() == target.lower()]\n",
    "        if len(indices)!=0:\n",
    "            for indice in indices:\n",
    "                for i in np.arange(indice-window,indice+window):\n",
    "                    if i>=0 and i<=len(token)-1:\n",
    "                        if token[i] in cooccur_dict.keys() :\n",
    "                            cooccur_dict[token[i]] += 1\n",
    "                        else :\n",
    "                            cooccur_dict[token[i]] = 1 \n",
    "    try :\n",
    "        del cooccur_dict[target]\n",
    "    except KeyError:\n",
    "        try:\n",
    "            del cooccur_dict[target.upper()]\n",
    "        except KeyError:\n",
    "            print(target)\n",
    "    return sorted(cooccur_dict.items(),key=lambda item:item[1],reverse=True)[:num]\n",
    "\n",
    "        "
   ]
  },
  {
   "cell_type": "code",
   "execution_count": 9,
   "metadata": {},
   "outputs": [
    {
     "output_type": "stream",
     "name": "stderr",
     "text": [
      "C:\\Users\\gyutaePark\\anaconda3\\envs\\kaist\\lib\\site-packages\\ipykernel\\ipkernel.py:287: DeprecationWarning: `should_run_async` will not call `transform_cell` automatically in the future. Please pass the result to `transformed_cell` argument and any exception that happen during thetransform in `preprocessing_exc_tuple` in IPython 7.17 and above.\n  and should_run_async(code)\n"
     ]
    }
   ],
   "source": [
    "def stopwords_remove(dict):\n",
    "    stopwords  = ['kaist','교수']\n",
    "    for stopword in stopwords:\n",
    "        try:\n",
    "            del dict[stopword]\n",
    "        except KeyError:\n",
    "            continue\n",
    "    return dict "
   ]
  },
  {
   "cell_type": "code",
   "execution_count": 10,
   "metadata": {},
   "outputs": [
    {
     "output_type": "stream",
     "name": "stderr",
     "text": [
      "C:\\Users\\gyutaePark\\anaconda3\\envs\\kaist\\lib\\site-packages\\ipykernel\\ipkernel.py:287: DeprecationWarning: `should_run_async` will not call `transform_cell` automatically in the future. Please pass the result to `transformed_cell` argument and any exception that happen during thetransform in `preprocessing_exc_tuple` in IPython 7.17 and above.\n  and should_run_async(code)\n"
     ]
    }
   ],
   "source": [
    "def word_tuple2dict(tups):\n",
    "    target_dict =dict((x,int(y)) for x,y in tups)\n",
    "    for key in list(target_dict.keys()):\n",
    "        if len(key) ==1 :\n",
    "           del target_dict[key]\n",
    "    return target_dict"
   ]
  },
  {
   "cell_type": "code",
   "execution_count": 11,
   "metadata": {},
   "outputs": [
    {
     "output_type": "stream",
     "name": "stderr",
     "text": [
      "C:\\Users\\gyutaePark\\anaconda3\\envs\\kaist\\lib\\site-packages\\ipykernel\\ipkernel.py:287: DeprecationWarning: `should_run_async` will not call `transform_cell` automatically in the future. Please pass the result to `transformed_cell` argument and any exception that happen during thetransform in `preprocessing_exc_tuple` in IPython 7.17 and above.\n  and should_run_async(code)\n"
     ]
    }
   ],
   "source": [
    "def dftotext(df,path):\n",
    "    textlist = df['content_token'].tolist()\n",
    "    with open(path,'w',encoding='utf-8-sig') as f:\n",
    "        for text in textlist:\n",
    "                f.write(' '.join(text)+'\\n')"
   ]
  },
  {
   "cell_type": "code",
   "execution_count": 12,
   "metadata": {
    "tags": []
   },
   "outputs": [
    {
     "output_type": "stream",
     "name": "stderr",
     "text": [
      "C:\\Users\\gyutaePark\\anaconda3\\envs\\kaist\\lib\\site-packages\\ipykernel\\ipkernel.py:287: DeprecationWarning: `should_run_async` will not call `transform_cell` automatically in the future. Please pass the result to `transformed_cell` argument and any exception that happen during thetransform in `preprocessing_exc_tuple` in IPython 7.17 and above.\n  and should_run_async(code)\n"
     ]
    }
   ],
   "source": [
    "def visualize_korean(df,tokenizer,root_path,topic_num=10,keyword_num=50,topn=10):\n",
    "    os.makedirs(root_path,exist_ok = True)\n",
    "    print('Tokenize Start')\n",
    "    df = tokenizer(df)\n",
    "    print('Tokenize End')\n",
    "    detoken_path = join(root_path,'detokenize_text.txt')\n",
    "    dftotext(df,detoken_path)\n",
    "    print('detokenize end')\n",
    "    topic_modeling(detoken_path, join(root_path,'topic_model.html'))\n",
    "    print('topic model made')\n",
    "    remove(detoken_path)\n",
    "\n",
    "    #keyword extract part \n",
    "    TF_content_word, TF_title_word= TfidfWord(df)\n",
    "    Count_content_word, Count_title_word= CountWord(df)\n",
    "    # TF_content_word_dict=word_tuple2dict(TF_content_word[:keyword_num])\n",
    "    # TF_content_word_dict = stopwords_remove(TF_content_word_dict)\n",
    "    # TF_title_word_dict=word_tuple2dict(TF_title_word[:keyword_num])\n",
    "    # TF_title_word_dict = stopwords_remove(TF_title_word_dict)\n",
    "    Count_content_word_dict = word_tuple2dict(Count_content_word[:keyword_num])\n",
    "    Count_content_word_dict = stopwords_remove(Count_content_word_dict)\n",
    "    Count_title_word_dict = word_tuple2dict(Count_title_word[:keyword_num])\n",
    "    Count_title_word_dict = stopwords_remove(Count_title_word_dict)\n",
    "\n",
    "\n",
    "    dict_list = [Count_content_word_dict,Count_title_word_dict]\n",
    "    titles_token=df['title_token'].tolist()\n",
    "    contents_token=df['content_token'].tolist()\n",
    "    tokens = titles_token + contents_token\n",
    "\n",
    "    #window내에서 함께 나타난 다른 토큰들의 내림차순 및 유사어로 추측되는 것을 내림차순 정렬 그리고 저장\n",
    "    model = Word2Vec(sentences=tokens,size=300,window=5,min_count=3,workers=4, sg=0)\n",
    "    print('word2vec end')\n",
    "\n",
    "    for j,method_dict in enumerate(dict_list):\n",
    "        keyword_list = []\n",
    "        for keyword in method_dict.keys():\n",
    "            subkeyword_dict = dict()\n",
    "            subkeyword_dict['keyword'] = keyword \n",
    "            subkeyword_dict['score'] = method_dict[keyword]\n",
    "\n",
    "            tups = find_cooccur(tokens,keyword,4,topn)\n",
    "            cooccur_list =[]\n",
    "            for i,tup in enumerate(tups): \n",
    "                cooccur_list.append({'index':i+1, 'subkeyword':tup[0],'cooccur_num':tup[1]})\n",
    "            subkeyword_dict['cooccur'] = cooccur_list\n",
    "            try:\n",
    "                tups = model.wv.similar_by_word(keyword,topn=topn)\n",
    "            except :\n",
    "                try:\n",
    "                    tups = model.wv.similar_by_word(keyword.upper(),topn=topn)\n",
    "                except : \n",
    "                    continue\n",
    "            similar_list =[]\n",
    "            for i,tup in enumerate(tups): \n",
    "                similar_list.append({'index':i+1, 'subkeyword':tup[0],'cooccur_num':tup[1]})\n",
    "            subkeyword_dict['similar'] = similar_list\n",
    "\n",
    "            keyword_list.append(subkeyword_dict)\n",
    "\n",
    "\n",
    "        if j==0:\n",
    "            with open(join(root_path,'content_wordcloud'+'.html'), 'w', encoding='UTF-8-sig') as file:\n",
    "                file.write(render(json.dumps(keyword_list, ensure_ascii=False)))\n",
    "        else:\n",
    "            with open(join(root_path,'title_wordcloud'+'.html'), 'w', encoding='UTF-8-sig') as file:\n",
    "                file.write(render(json.dumps(keyword_list, ensure_ascii=False)))\n",
    "        print('made visualize file')\n",
    "        \n",
    "    "
   ]
  },
  {
   "cell_type": "code",
   "execution_count": 13,
   "metadata": {},
   "outputs": [
    {
     "output_type": "stream",
     "name": "stderr",
     "text": [
      "C:\\Users\\gyutaePark\\anaconda3\\envs\\kaist\\lib\\site-packages\\ipykernel\\ipkernel.py:287: DeprecationWarning: `should_run_async` will not call `transform_cell` automatically in the future. Please pass the result to `transformed_cell` argument and any exception that happen during thetransform in `preprocessing_exc_tuple` in IPython 7.17 and above.\n  and should_run_async(code)\n"
     ]
    }
   ],
   "source": [
    "def visualize_english(df,root_path,topic_num=10,keyword_num=50,topn=10):\n",
    "    os.makedirs(root_path,exist_ok = True)\n",
    "    print('Tokenize Start')\n",
    "    df = tokenize_nltk(df)\n",
    "    print('tokenize End')\n",
    "    detoken_path = join(root_path,'detokenize_text.txt')\n",
    "    dftotext(df,detoken_path)\n",
    "    print('detokenize end')\n",
    "    topic_modeling(detoken_path, join(root_path,'topic_model.html'))\n",
    "    print('topic model made')\n",
    "    remove(detoken_path)\n",
    "\n",
    "    #keyword extract part \n",
    "    TF_content_word, TF_title_word= TfidfWord(df)\n",
    "    Count_content_word, Count_title_word= CountWord(df)\n",
    "    # TF_content_word_dict=word_tuple2dict(TF_content_word[:keyword_num])\n",
    "    # TF_content_word_dict = stopwords_remove(TF_content_word_dict)\n",
    "    # TF_title_word_dict=word_tuple2dict(TF_title_word[:keyword_num])\n",
    "    # TF_title_word_dict = stopwords_remove(TF_title_word_dict)\n",
    "    Count_content_word_dict=word_tuple2dict(Count_content_word[:keyword_num])\n",
    "    Count_content_word_dict = stopwords_remove(Count_content_word_dict)\n",
    "    Count_title_word_dict=word_tuple2dict(Count_title_word[:keyword_num])\n",
    "    Count_title_word_dict = stopwords_remove(Count_title_word_dict)\n",
    "\n",
    "\n",
    "    dict_list = [Count_content_word_dict,Count_title_word_dict]\n",
    "    titles_token=df['title_token'].tolist()\n",
    "    contents_token=df['content_token'].tolist()\n",
    "    tokens = titles_token + contents_token\n",
    "\n",
    "    #window내에서 함께 나타난 다른 토큰들의 내림차순 및 유사어로 추측되는 것을 내림차순 정렬 그리고 저장\n",
    "    model = Word2Vec(sentences=tokens,size=300,window=5,min_count=3,workers=4, sg=0)\n",
    "    print('word2vec end')\n",
    "\n",
    "    for j,method_dict in enumerate(dict_list):\n",
    "        keyword_list = []\n",
    "        for keyword in method_dict.keys():\n",
    "            subkeyword_dict = dict()\n",
    "            subkeyword_dict['keyword'] = keyword \n",
    "            subkeyword_dict['score'] = method_dict[keyword]\n",
    "\n",
    "            tups = find_cooccur(tokens,keyword,4,topn)\n",
    "            cooccur_list =[]\n",
    "            for i,tup in enumerate(tups): \n",
    "                cooccur_list.append({'index':i+1, 'subkeyword':tup[0],'cooccur_num':tup[1]})\n",
    "            subkeyword_dict['cooccur'] = cooccur_list\n",
    "            try:\n",
    "                tups = model.wv.similar_by_word(keyword,topn=topn)\n",
    "            except :\n",
    "                try:\n",
    "                    tups = model.wv.similar_by_word(keyword.upper(),topn=topn)\n",
    "                except : \n",
    "                    continue\n",
    "            similar_list =[]\n",
    "            for i,tup in enumerate(tups): \n",
    "                similar_list.append({'index':i+1, 'subkeyword':tup[0],'cooccur_num':tup[1]})\n",
    "            subkeyword_dict['similar'] = similar_list\n",
    "\n",
    "            keyword_list.append(subkeyword_dict)\n",
    "\n",
    "\n",
    "        if j==0:\n",
    "            with open(join(root_path,'content_wordcloud'+'.html'), 'w', encoding='UTF-8-sig') as file:\n",
    "                file.write(render(json.dumps(keyword_list, ensure_ascii=False)))\n",
    "        else:\n",
    "            with open(join(root_path,'title_worldcloud'+'.html'), 'w', encoding='UTF-8-sig') as file:\n",
    "                file.write(render(json.dumps(keyword_list, ensure_ascii=False)))\n",
    "        print('made visualize file')\n",
    "        \n"
   ]
  }
 ],
 "metadata": {
  "kernelspec": {
   "name": "Python 3.7.9 64-bit ('kaist': conda)",
   "display_name": "Python 3.7.9 64-bit ('kaist': conda)",
   "metadata": {
    "interpreter": {
     "hash": "dded5cb93e3c907a34a5e4f0ec1fe820e95f7862474c516cec6751f2e9fcac11"
    }
   }
  },
  "language_info": {
   "codemirror_mode": {
    "name": "ipython",
    "version": 3
   },
   "file_extension": ".py",
   "mimetype": "text/x-python",
   "name": "python",
   "nbconvert_exporter": "python",
   "pygments_lexer": "ipython3",
   "version": "3.7.9-final"
  }
 },
 "nbformat": 4,
 "nbformat_minor": 4
}