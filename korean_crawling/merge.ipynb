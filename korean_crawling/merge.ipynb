{
 "cells": [
  {
   "cell_type": "code",
   "execution_count": 1,
   "metadata": {},
   "outputs": [],
   "source": [
    "import pandas as pd\n",
    "import os"
   ]
  },
  {
   "cell_type": "code",
   "execution_count": 2,
   "metadata": {},
   "outputs": [
    {
     "data": {
      "text/plain": [
       "['.ipynb_checkpoints',\n",
       " '2015-01-01-2020-10-23_donga.pkl',\n",
       " '2015.01.01-2020.10.23_hani.pkl',\n",
       " '2015.01.01-2020.10.23_joongang.pkl',\n",
       " '2015.01.01-2020.10.23_kahn_real.pkl',\n",
       " '2015.01.01-2020.10.23_seoul.pkl']"
      ]
     },
     "execution_count": 2,
     "metadata": {},
     "output_type": "execute_result"
    }
   ],
   "source": [
    "path_dir = 'pickle files'\n",
    "file_list = os.listdir(path_dir)\n",
    "file_list"
   ]
  },
  {
   "cell_type": "code",
   "execution_count": 5,
   "metadata": {},
   "outputs": [
    {
     "name": "stdout",
     "output_type": "stream",
     "text": [
      "1417\n",
      "888\n",
      "1959\n",
      "1194\n",
      "3251\n"
     ]
    },
    {
     "data": {
      "text/html": [
       "<div>\n",
       "<style scoped>\n",
       "    .dataframe tbody tr th:only-of-type {\n",
       "        vertical-align: middle;\n",
       "    }\n",
       "\n",
       "    .dataframe tbody tr th {\n",
       "        vertical-align: top;\n",
       "    }\n",
       "\n",
       "    .dataframe thead th {\n",
       "        text-align: right;\n",
       "    }\n",
       "</style>\n",
       "<table border=\"1\" class=\"dataframe\">\n",
       "  <thead>\n",
       "    <tr style=\"text-align: right;\">\n",
       "      <th></th>\n",
       "      <th>urls</th>\n",
       "      <th>titles</th>\n",
       "      <th>contents</th>\n",
       "    </tr>\n",
       "  </thead>\n",
       "  <tbody>\n",
       "    <tr>\n",
       "      <th>0</th>\n",
       "      <td>https://www.donga.com/news/article/all/2017012...</td>\n",
       "      <td>야권서 흔들고 지지율은 안 오르고… 날카로워진 반기문</td>\n",
       "      <td>[대선 정국]잇단 공격에 강공모드로 전환 MB, 반기문에 “파이팅” 반기문 전 유...</td>\n",
       "    </tr>\n",
       "    <tr>\n",
       "      <th>1</th>\n",
       "      <td>https://www.donga.com/news/article/all/2017090...</td>\n",
       "      <td>오준호 교수, ‘美 99년 만의 개기일식’ 동영상 공개</td>\n",
       "      <td>미국 전역에서 관측돼 세계인의 관심을 모았던 지난달 22일(현지 시간)의 개기일식...</td>\n",
       "    </tr>\n",
       "    <tr>\n",
       "      <th>2</th>\n",
       "      <td>https://www.donga.com/news/article/all/2017122...</td>\n",
       "      <td>[부고]권정현 별세·승단 승태 부친상·조성진 유준호 장인상 外</td>\n",
       "      <td>◇권정현 전 농수산부 양정국장 별세·...</td>\n",
       "    </tr>\n",
       "    <tr>\n",
       "      <th>3</th>\n",
       "      <td>https://www.donga.com/news/article/all/2017122...</td>\n",
       "      <td>[Bio 의약]유럽 4종, 美1종, 韓4종… 바이오시밀러 제품 판매허가 획득</td>\n",
       "      <td>삼성바이오에피스\\r 올해 미국-유럽서 잇단 판매 승인\\r 자가면역질환 치료제뿐 아...</td>\n",
       "    </tr>\n",
       "    <tr>\n",
       "      <th>4</th>\n",
       "      <td>https://www.donga.com/news/article/all/2015120...</td>\n",
       "      <td>[부고]김상준 별세·예경 윤경 세진 부친상 外</td>\n",
       "      <td>◇김상준 전 ㈜풍산 대표이사 별세·예...</td>\n",
       "    </tr>\n",
       "    <tr>\n",
       "      <th>...</th>\n",
       "      <td>...</td>\n",
       "      <td>...</td>\n",
       "      <td>...</td>\n",
       "    </tr>\n",
       "    <tr>\n",
       "      <th>8704</th>\n",
       "      <td>http://www.seoul.co.kr/news/newsView.php?id=20...</td>\n",
       "      <td>[서울신문] [동정] 조윤선 전장관, 서일홍교수, 이건재교수</td>\n",
       "      <td>\\r \\t\\t\\t      $(window).load(functio...</td>\n",
       "    </tr>\n",
       "    <tr>\n",
       "      <th>8705</th>\n",
       "      <td>http://www.seoul.co.kr/news/newsView.php?id=20...</td>\n",
       "      <td>[서울신문] “총장은 오케스트라 지휘자 세계 최고 대학 만들겠다”</td>\n",
       "      <td>\\r \\t\\t\\t  서남표(70) 한국과학기술원(KAIST) 신임 총장은 13일 취...</td>\n",
       "    </tr>\n",
       "    <tr>\n",
       "      <th>8706</th>\n",
       "      <td>http://www.seoul.co.kr/news/newsView.php?id=20...</td>\n",
       "      <td>[서울신문] “분당병원 꽂으려 했는데…” 安부인 ‘김미경 특혜 임용’ 시도 정황 녹취록</td>\n",
       "      <td>\\r \\t\\t\\t  안철수 전 국민의당 대표의 부인 김미경 교수를 분당서울대병원에 ...</td>\n",
       "    </tr>\n",
       "    <tr>\n",
       "      <th>8707</th>\n",
       "      <td>http://www.seoul.co.kr/news/newsView.php?id=20...</td>\n",
       "      <td>[서울신문] “AI 무기 안돼” 세계 저명 로봇 과학자들 ‘카이스트 보이콧’ 선언</td>\n",
       "      <td>\\r \\t\\t\\t  외국의 저명 로봇학자 50여명이 한국과학기술원(KAIST)과 한...</td>\n",
       "    </tr>\n",
       "    <tr>\n",
       "      <th>8708</th>\n",
       "      <td>http://www.seoul.co.kr/news/newsView.php?id=20...</td>\n",
       "      <td>[서울신문] 100억 부동산 카이스트에 쾌척</td>\n",
       "      <td>한은 이사출신 조천식씨 부부 “과학도 지원 국민경제에 도움” \\r \\t\\t\\t  ...</td>\n",
       "    </tr>\n",
       "  </tbody>\n",
       "</table>\n",
       "<p>8709 rows × 3 columns</p>\n",
       "</div>"
      ],
      "text/plain": [
       "                                                   urls  \\\n",
       "0     https://www.donga.com/news/article/all/2017012...   \n",
       "1     https://www.donga.com/news/article/all/2017090...   \n",
       "2     https://www.donga.com/news/article/all/2017122...   \n",
       "3     https://www.donga.com/news/article/all/2017122...   \n",
       "4     https://www.donga.com/news/article/all/2015120...   \n",
       "...                                                 ...   \n",
       "8704  http://www.seoul.co.kr/news/newsView.php?id=20...   \n",
       "8705  http://www.seoul.co.kr/news/newsView.php?id=20...   \n",
       "8706  http://www.seoul.co.kr/news/newsView.php?id=20...   \n",
       "8707  http://www.seoul.co.kr/news/newsView.php?id=20...   \n",
       "8708  http://www.seoul.co.kr/news/newsView.php?id=20...   \n",
       "\n",
       "                                                titles  \\\n",
       "0                        야권서 흔들고 지지율은 안 오르고… 날카로워진 반기문   \n",
       "1                       오준호 교수, ‘美 99년 만의 개기일식’ 동영상 공개   \n",
       "2                   [부고]권정현 별세·승단 승태 부친상·조성진 유준호 장인상 外   \n",
       "3           [Bio 의약]유럽 4종, 美1종, 韓4종… 바이오시밀러 제품 판매허가 획득   \n",
       "4                            [부고]김상준 별세·예경 윤경 세진 부친상 外   \n",
       "...                                                ...   \n",
       "8704                 [서울신문] [동정] 조윤선 전장관, 서일홍교수, 이건재교수   \n",
       "8705              [서울신문] “총장은 오케스트라 지휘자 세계 최고 대학 만들겠다”   \n",
       "8706  [서울신문] “분당병원 꽂으려 했는데…” 安부인 ‘김미경 특혜 임용’ 시도 정황 녹취록   \n",
       "8707     [서울신문] “AI 무기 안돼” 세계 저명 로봇 과학자들 ‘카이스트 보이콧’ 선언   \n",
       "8708                          [서울신문] 100억 부동산 카이스트에 쾌척   \n",
       "\n",
       "                                               contents  \n",
       "0      [대선 정국]잇단 공격에 강공모드로 전환 MB, 반기문에 “파이팅” 반기문 전 유...  \n",
       "1      미국 전역에서 관측돼 세계인의 관심을 모았던 지난달 22일(현지 시간)의 개기일식...  \n",
       "2                               ◇권정현 전 농수산부 양정국장 별세·...  \n",
       "3      삼성바이오에피스\\r 올해 미국-유럽서 잇단 판매 승인\\r 자가면역질환 치료제뿐 아...  \n",
       "4                               ◇김상준 전 ㈜풍산 대표이사 별세·예...  \n",
       "...                                                 ...  \n",
       "8704           \\r \\t\\t\\t      $(window).load(functio...  \n",
       "8705  \\r \\t\\t\\t  서남표(70) 한국과학기술원(KAIST) 신임 총장은 13일 취...  \n",
       "8706  \\r \\t\\t\\t  안철수 전 국민의당 대표의 부인 김미경 교수를 분당서울대병원에 ...  \n",
       "8707  \\r \\t\\t\\t  외국의 저명 로봇학자 50여명이 한국과학기술원(KAIST)과 한...  \n",
       "8708   한은 이사출신 조천식씨 부부 “과학도 지원 국민경제에 도움” \\r \\t\\t\\t  ...  \n",
       "\n",
       "[8709 rows x 3 columns]"
      ]
     },
     "execution_count": 5,
     "metadata": {},
     "output_type": "execute_result"
    }
   ],
   "source": [
    "df = pd.DataFrame(columns=['urls', 'titles', 'contents'])\n",
    "for file in file_list:\n",
    "    if file == '.ipynb_checkpoints':\n",
    "        continue\n",
    "    file = 'pickle files/' + file\n",
    "    temp = pd.read_pickle(file)\n",
    "    print(len(temp))\n",
    "    df = pd.concat([df, temp], ignore_index=True)\n",
    "df"
   ]
  },
  {
   "cell_type": "code",
   "execution_count": 6,
   "metadata": {},
   "outputs": [],
   "source": [
    "df.to_excel('articles/2015.01.01-2020.10.23_merged.xlsx')\n",
    "df.to_pickle('pickle files/2015.01.01-2020.10.23_merged.pkl')"
   ]
  },
  {
   "cell_type": "code",
   "execution_count": null,
   "metadata": {},
   "outputs": [],
   "source": []
  }
 ],
 "metadata": {
  "kernelspec": {
   "display_name": "Python 3",
   "language": "python",
   "name": "python3"
  },
  "language_info": {
   "codemirror_mode": {
    "name": "ipython",
    "version": 3
   },
   "file_extension": ".py",
   "mimetype": "text/x-python",
   "name": "python",
   "nbconvert_exporter": "python",
   "pygments_lexer": "ipython3",
   "version": "3.8.3"
  }
 },
 "nbformat": 4,
 "nbformat_minor": 4
}
